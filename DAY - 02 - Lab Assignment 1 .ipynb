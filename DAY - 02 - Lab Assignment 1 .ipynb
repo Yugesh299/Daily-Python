{
 "cells": [
  {
   "cell_type": "markdown",
   "metadata": {},
   "source": [
    "# Profit and Loss "
   ]
  },
  {
   "cell_type": "code",
   "execution_count": 1,
   "metadata": {},
   "outputs": [
    {
     "name": "stdout",
     "output_type": "stream",
     "text": [
      "Enter Selling Price:6\n",
      "Enter Cost Price:6\n",
      "No Profit No Loss!!\n"
     ]
    }
   ],
   "source": [
    "sp=float(input(\"Enter Selling Price:\"))\n",
    "cp=float(input(\"Enter Cost Price:\"))\n",
    "\n",
    "if sp>cp:\n",
    "    profit=sp-cp\n",
    "    print(\"Profit is %f\"%(profit))\n",
    "elif cp>sp:\n",
    "    Loss=cp-sp\n",
    "    print(\"Loss is %f\"%(Loss) )\n",
    "else:\n",
    "    print(\"No Profit No Loss!!\")"
   ]
  },
  {
   "cell_type": "code",
   "execution_count": 2,
   "metadata": {},
   "outputs": [
    {
     "name": "stdout",
     "output_type": "stream",
     "text": [
      "Enter Principle Value:6\n",
      "Enter rate Of Interest:6\n",
      "Enter Time:6\n",
      "Enter No. of installments:6\n",
      "Simple Interest is 2.160000\n",
      "compound Interest is 2.584613\n"
     ]
    }
   ],
   "source": [
    "p=float(input(\"Enter Principle Value:\"))\n",
    "r=float(input(\"Enter rate Of Interest:\"))\n",
    "t=float(input(\"Enter Time:\"))\n",
    "n=float(input(\"Enter No. of installments:\"))\n",
    "simple = ((p*r*t)/(100))\n",
    "print(\"Simple Interest is %f\"%(simple))\n",
    "compound = (p*(1+(r/100)/n)**(t*n))\n",
    "print(\"compound Interest is %f\"%(compound-p))\n"
   ]
  },
  {
   "cell_type": "markdown",
   "metadata": {},
   "source": [
    "- Leap Year"
   ]
  },
  {
   "cell_type": "code",
   "execution_count": 3,
   "metadata": {},
   "outputs": [
    {
     "name": "stdout",
     "output_type": "stream",
     "text": [
      "Enter a year: 6\n",
      "6 is not a leap year\n"
     ]
    }
   ],
   "source": [
    "year = int(input(\"Enter a year: \"))  \n",
    "if (year % 4) == 0:  \n",
    "    if (year % 100) == 0:  \n",
    "        if (year % 400) == 0:  \n",
    "            print(\"{0} is a leap year\".format(year))  \n",
    "        else:  \n",
    "            print(\"{0} is not a leap year\".format(year))  \n",
    "    else:  \n",
    "        print(\"{0} is a leap year\".format(year))  \n",
    "else:  \n",
    "    print(\"{0} is not a leap year\".format(year))  \n"
   ]
  },
  {
   "cell_type": "code",
   "execution_count": 4,
   "metadata": {},
   "outputs": [
    {
     "name": "stdout",
     "output_type": "stream",
     "text": [
      "Enter a year: 6\n",
      "year is not leap year\n"
     ]
    }
   ],
   "source": [
    "year = int(input(\"Enter a year: \"))\n",
    "if (year % 4 == 0 & year % 100 ==0 & year % 400 ==0):\n",
    "    print(\"year is leap year\")\n",
    "else:\n",
    "    print(\"year is not leap year\")    "
   ]
  },
  {
   "cell_type": "markdown",
   "metadata": {},
   "source": [
    "- calculator"
   ]
  },
  {
   "cell_type": "code",
   "execution_count": 5,
   "metadata": {},
   "outputs": [
    {
     "name": "stdout",
     "output_type": "stream",
     "text": [
      "Select operations form 1, 2, 3, 4 :6\n",
      "Enter first number:6\n",
      "Enter second number:6\n",
      "Invalid input\n"
     ]
    }
   ],
   "source": [
    "s = input(\"Select operations form 1, 2, 3, 4 :\") \n",
    "a = int(input(\"Enter first number:\")) \n",
    "b = int(input(\"Enter second number:\"))\n",
    "\n",
    "if s=='1': \n",
    "    print(a,\"+\",b,\"=\",a+b) \n",
    "elif s=='2':\n",
    "    print(a,\"-\",b,\"=\",a-b) \n",
    "   \n",
    "elif s=='3': \n",
    "    print(a,\"*\",b,\"=\",a*b) \n",
    "  \n",
    "elif s=='4': \n",
    "    if b==0:\n",
    "        print(\"Infinity\")\n",
    "    else:   \n",
    "        print(a,\"/\",b,\"=\",a/b) \n",
    "else: \n",
    "    print(\"Invalid input\") \n"
   ]
  },
  {
   "cell_type": "markdown",
   "metadata": {},
   "source": [
    "- String number Validitation"
   ]
  },
  {
   "cell_type": "code",
   "execution_count": 2,
   "metadata": {},
   "outputs": [
    {
     "name": "stdout",
     "output_type": "stream",
     "text": [
      "Enter the long number: 4589965\n",
      "Enter single digit: 5\n",
      "9\n",
      "Invalid\n"
     ]
    }
   ],
   "source": [
    "input1=(input(\"Enter the long number: \"))\n",
    "input2=input(\"Enter single digit: \")\n",
    "x=len(input1)\n",
    "z=input1[(x//2)]\n",
    "print(z)\n",
    "if len(input1)%2==0:\n",
    "    print(\"String is invalid\")\n",
    "else:\n",
    "    if input2 == z:\n",
    "        print(\"Middle digit: \",z)\n",
    "    else:\n",
    "        print(\"Invalid\")"
   ]
  },
  {
   "cell_type": "code",
   "execution_count": 2,
   "metadata": {},
   "outputs": [
    {
     "name": "stdout",
     "output_type": "stream",
     "text": [
      "[1, 2, 3, 4, 5, 6, 7, 8]\n",
      "[2, 3, 4, 5, 6, 7]\n",
      "[3, 4, 5, 6]\n",
      "[4, 5]\n",
      "[]\n"
     ]
    }
   ],
   "source": [
    "list1=[1,2,3,4,5,6,7,8]\n",
    "print(list1)\n",
    "\n",
    "list1.remove(1)\n",
    "list1.remove(8)\n",
    "print(list1)\n",
    "\n",
    "list1.remove(2)\n",
    "list1.remove(7)\n",
    "print(list1)\n",
    "\n",
    "list1.remove(3)\n",
    "list1.remove(6)\n",
    "print(list1)\n",
    "\n",
    "list1.remove(4)\n",
    "list1.remove(5)\n",
    "print(list1)\n",
    "\n",
    "\n"
   ]
  },
  {
   "cell_type": "code",
   "execution_count": null,
   "metadata": {},
   "outputs": [],
   "source": []
  }
 ],
 "metadata": {
  "kernelspec": {
   "display_name": "Python 3",
   "language": "python",
   "name": "python3"
  },
  "language_info": {
   "codemirror_mode": {
    "name": "ipython",
    "version": 3
   },
   "file_extension": ".py",
   "mimetype": "text/x-python",
   "name": "python",
   "nbconvert_exporter": "python",
   "pygments_lexer": "ipython3",
   "version": "3.7.0"
  }
 },
 "nbformat": 4,
 "nbformat_minor": 2
}
