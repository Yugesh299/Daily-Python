{
 "cells": [
  {
   "cell_type": "markdown",
   "metadata": {},
   "source": [
    "# Advance Scripting"
   ]
  },
  {
   "cell_type": "markdown",
   "metadata": {},
   "source": [
    "# Functions"
   ]
  },
  {
   "cell_type": "markdown",
   "metadata": {},
   "source": [
    "- Function creation"
   ]
  },
  {
   "cell_type": "code",
   "execution_count": 1,
   "metadata": {},
   "outputs": [
    {
     "name": "stdout",
     "output_type": "stream",
     "text": [
      "8\n"
     ]
    }
   ],
   "source": [
    "def addition():\n",
    "    print(2+6)\n",
    "addition()"
   ]
  },
  {
   "cell_type": "markdown",
   "metadata": {},
   "source": [
    "- passing arguments"
   ]
  },
  {
   "cell_type": "code",
   "execution_count": 2,
   "metadata": {},
   "outputs": [
    {
     "name": "stdout",
     "output_type": "stream",
     "text": [
      "8\n"
     ]
    }
   ],
   "source": [
    "def addition(x,y):\n",
    "    print(x+y)\n",
    "\n",
    "addition(3,5)"
   ]
  },
  {
   "cell_type": "markdown",
   "metadata": {},
   "source": [
    "- return"
   ]
  },
  {
   "cell_type": "code",
   "execution_count": 3,
   "metadata": {},
   "outputs": [
    {
     "name": "stdout",
     "output_type": "stream",
     "text": [
      "8\n",
      "6\n"
     ]
    }
   ],
   "source": [
    "def addition(x,y):\n",
    "    return(x+y)\n",
    "\n",
    "print(addition(3,5))\n",
    "var=addition(2,4)\n",
    "print(var)"
   ]
  },
  {
   "cell_type": "markdown",
   "metadata": {},
   "source": [
    "- local variables and global variables"
   ]
  },
  {
   "cell_type": "code",
   "execution_count": 4,
   "metadata": {},
   "outputs": [
    {
     "name": "stdout",
     "output_type": "stream",
     "text": [
      "value of sum1 is 0\n",
      "value of sum1 is 9\n",
      "value of sum2 is:9\n"
     ]
    }
   ],
   "source": [
    "sum1=0\n",
    "print(\"value of sum1 is {0}\".format(sum1))\n",
    "def addition(a,b):\n",
    "    sum1=a+b\n",
    "    print(\"value of sum1 is {0}\".format(sum1))\n",
    "    return sum1\n",
    "sum2= addition(3,6)\n",
    "print(\"value of sum2 is:{0}\".format(sum2))\n"
   ]
  },
  {
   "cell_type": "markdown",
   "metadata": {},
   "source": [
    "- arguments"
   ]
  },
  {
   "cell_type": "code",
   "execution_count": 5,
   "metadata": {},
   "outputs": [
    {
     "name": "stdout",
     "output_type": "stream",
     "text": [
      "(1, 2, 3, 4)\n",
      "<class 'tuple'>\n",
      "sum= 10\n",
      "(1, 2, 3, 4, 5, 6, 7, 8, 9)\n",
      "<class 'tuple'>\n",
      "sum= 45\n"
     ]
    }
   ],
   "source": [
    "def addition(*args):\n",
    "    print(args)\n",
    "    print(type(args))\n",
    "    s=0\n",
    "    for i in args:\n",
    "        s+=i\n",
    "    print(\"sum=\",s)   \n",
    "\n",
    "addition(1,2,3,4)    \n",
    "addition(1,2,3,4,5,6,7,8,9)    \n",
    "    "
   ]
  },
  {
   "cell_type": "code",
   "execution_count": 6,
   "metadata": {},
   "outputs": [],
   "source": [
    "#college(name=\"\",roll=\"\",sports=\"\")"
   ]
  },
  {
   "cell_type": "markdown",
   "metadata": {},
   "source": [
    "- kwargs"
   ]
  },
  {
   "cell_type": "code",
   "execution_count": 7,
   "metadata": {},
   "outputs": [
    {
     "name": "stdout",
     "output_type": "stream",
     "text": [
      "dict_items([('name', 'anuj'), ('roll', '20'), ('sports', 'cricket')])\n",
      "name anuj\n",
      "roll 20\n",
      "sports cricket\n",
      "dict_items([('name', 'prathamesh'), ('roll', 40), ('sports', 'chess')])\n",
      "name prathamesh\n",
      "roll 40\n",
      "sports chess\n"
     ]
    }
   ],
   "source": [
    "def college(**kwargs):\n",
    "    #print(kwargs)\n",
    "    print(kwargs.items())\n",
    "    for i,j in kwargs.items():\n",
    "        print(i,j)\n",
    "        if j==\"cricket \":\n",
    "            print(\"oh! you're a cricket lover too\")\n",
    "            \n",
    "college(name=\"anuj\",roll=\"20\",sports=\"cricket\")\n",
    "college(name=\"prathamesh\",roll=40,sports=\"chess\")"
   ]
  },
  {
   "cell_type": "markdown",
   "metadata": {},
   "source": [
    "- List comprehension"
   ]
  },
  {
   "cell_type": "code",
   "execution_count": 8,
   "metadata": {},
   "outputs": [
    {
     "name": "stdout",
     "output_type": "stream",
     "text": [
      "[0, 1, 4, 9, 16, 25, 36, 49, 64, 81]\n",
      "list comprehension [0, 1, 4, 9, 16, 25, 36, 49, 64, 81]\n"
     ]
    }
   ],
   "source": [
    "#old method\n",
    "squares =[]\n",
    "for i in range(10):\n",
    "    squares.append(i**2)\n",
    "    #print(squares)\n",
    "print(squares)\n",
    "\n",
    "#list comprehension\n",
    "squares1 = [i**2 for i in range(10)]\n",
    "print(\"list comprehension\",squares1)"
   ]
  },
  {
   "cell_type": "code",
   "execution_count": 9,
   "metadata": {},
   "outputs": [
    {
     "name": "stdout",
     "output_type": "stream",
     "text": [
      "[0, 4, 16, 36, 64, 100, 144, 196, 256, 324]\n",
      "[1, 9, 25, 49, 81, 121, 169, 225, 289, 361]\n"
     ]
    }
   ],
   "source": [
    "squares1 = [i**2 for i in range(20) if i%2==0]\n",
    "print(squares1)\n",
    "squares1 = [i**2 for i in range(20) if i%2!=0]\n",
    "print(squares1)"
   ]
  },
  {
   "cell_type": "code",
   "execution_count": 10,
   "metadata": {},
   "outputs": [
    {
     "name": "stdout",
     "output_type": "stream",
     "text": [
      "['HELLO', 'WORLD', 'GOOD', 'AFTERNOON']\n"
     ]
    }
   ],
   "source": [
    "list1 =[\"hello\",\"world\",\"good\",\"afternoon\"]\n",
    "list2 =[x.upper() for x in list1]\n",
    "print(list2)"
   ]
  },
  {
   "cell_type": "code",
   "execution_count": 11,
   "metadata": {},
   "outputs": [
    {
     "name": "stdout",
     "output_type": "stream",
     "text": [
      "[[2, 5], [2, 3], [3, 5], [3, 2], [4, 5], [4, 3], [4, 2]]\n"
     ]
    }
   ],
   "source": [
    "unique=[[x,y] for x in [2,3,4] for y in [5,3,2] if x!=y]\n",
    "print(unique)"
   ]
  },
  {
   "cell_type": "code",
   "execution_count": 12,
   "metadata": {},
   "outputs": [
    {
     "name": "stdout",
     "output_type": "stream",
     "text": [
      "[(2, 5), (2, 3), (3, 5), (3, 2), (4, 5), (4, 3), (4, 2)]\n"
     ]
    }
   ],
   "source": [
    "unique=[(x,y) for x in [2,3,4] for y in [5,3,2] if x!=y]\n",
    "print(unique)"
   ]
  },
  {
   "cell_type": "code",
   "execution_count": 13,
   "metadata": {},
   "outputs": [
    {
     "name": "stdout",
     "output_type": "stream",
     "text": [
      "[{2: 5}, {2: 3}, {3: 5}, {3: 2}, {4: 5}, {4: 3}, {4: 2}]\n"
     ]
    }
   ],
   "source": [
    "unique=[{x:y} for x in [2,3,4] for y in [5,3,2] if x!=y]\n",
    "print(unique)"
   ]
  },
  {
   "cell_type": "markdown",
   "metadata": {},
   "source": [
    "# Generator comprehension"
   ]
  },
  {
   "cell_type": "code",
   "execution_count": 14,
   "metadata": {},
   "outputs": [
    {
     "name": "stdout",
     "output_type": "stream",
     "text": [
      "<class 'list'>\n",
      "<generator object <genexpr> at 0x0000018F994DB8B8>\n",
      "<class 'generator'>\n",
      "912\n",
      "120\n",
      "0\n",
      "1\n",
      "4\n",
      "9\n",
      "16\n",
      "25\n",
      "36\n",
      "49\n",
      "64\n",
      "81\n",
      "100\n",
      "121\n",
      "144\n",
      "169\n",
      "196\n",
      "225\n",
      "256\n",
      "289\n",
      "324\n",
      "361\n",
      "400\n",
      "441\n",
      "484\n",
      "529\n",
      "576\n",
      "625\n",
      "676\n",
      "729\n",
      "784\n",
      "841\n",
      "900\n",
      "961\n",
      "1024\n",
      "1089\n",
      "1156\n",
      "1225\n",
      "1296\n",
      "1369\n",
      "1444\n",
      "1521\n",
      "1600\n",
      "1681\n",
      "1764\n",
      "1849\n",
      "1936\n",
      "2025\n",
      "2116\n",
      "2209\n",
      "2304\n",
      "2401\n",
      "2500\n",
      "2601\n",
      "2704\n",
      "2809\n",
      "2916\n",
      "3025\n",
      "3136\n",
      "3249\n",
      "3364\n",
      "3481\n",
      "3600\n",
      "3721\n",
      "3844\n",
      "3969\n",
      "4096\n",
      "4225\n",
      "4356\n",
      "4489\n",
      "4624\n",
      "4761\n",
      "4900\n",
      "5041\n",
      "5184\n",
      "5329\n",
      "5476\n",
      "5625\n",
      "5776\n",
      "5929\n",
      "6084\n",
      "6241\n",
      "6400\n",
      "6561\n",
      "6724\n",
      "6889\n",
      "7056\n",
      "7225\n",
      "7396\n",
      "7569\n",
      "7744\n",
      "7921\n",
      "8100\n",
      "8281\n",
      "8464\n",
      "8649\n",
      "8836\n",
      "9025\n",
      "9216\n",
      "9409\n",
      "9604\n",
      "9801\n"
     ]
    }
   ],
   "source": [
    "from sys import getsizeof\n",
    "\n",
    "squares =[i**2 for i in range(100)]\n",
    "#print(squares)\n",
    "print(type(squares))\n",
    "\n",
    "squaregen =(i**2 for i in range(100))\n",
    "print(squaregen)\n",
    "print(type(squaregen))\n",
    "\n",
    "print(getsizeof(squares))\n",
    "print(getsizeof(squaregen))\n",
    "\n",
    "for i in squaregen:\n",
    "    print(i)"
   ]
  },
  {
   "cell_type": "markdown",
   "metadata": {},
   "source": [
    "- lambda"
   ]
  },
  {
   "cell_type": "code",
   "execution_count": 15,
   "metadata": {},
   "outputs": [
    {
     "name": "stdout",
     "output_type": "stream",
     "text": [
      "8\n",
      "27\n"
     ]
    }
   ],
   "source": [
    "\n",
    "\n",
    "\n",
    "var= lambda a,b:a+b\n",
    "print(var(3,5))\n",
    "\n",
    "var= lambda a:a**3\n",
    "print(var(3))"
   ]
  },
  {
   "cell_type": "markdown",
   "metadata": {},
   "source": [
    "- Map"
   ]
  },
  {
   "cell_type": "code",
   "execution_count": 16,
   "metadata": {},
   "outputs": [
    {
     "data": {
      "text/plain": [
       "[0, 1, 4, 9, 16, 25, 36, 49, 64, 81]"
      ]
     },
     "execution_count": 16,
     "metadata": {},
     "output_type": "execute_result"
    }
   ],
   "source": [
    "list(map(lambda a: a**2,range(10)))"
   ]
  },
  {
   "cell_type": "code",
   "execution_count": 17,
   "metadata": {},
   "outputs": [
    {
     "data": {
      "text/plain": [
       "[81, 4, 9, 2025, 36, 81]"
      ]
     },
     "execution_count": 17,
     "metadata": {},
     "output_type": "execute_result"
    }
   ],
   "source": [
    "list(map(lambda a: a**2,[9,2,3,45,6,9]))"
   ]
  },
  {
   "cell_type": "markdown",
   "metadata": {},
   "source": [
    "- filter"
   ]
  },
  {
   "cell_type": "code",
   "execution_count": 18,
   "metadata": {},
   "outputs": [
    {
     "data": {
      "text/plain": [
       "[6, 7, 8, 9]"
      ]
     },
     "execution_count": 18,
     "metadata": {},
     "output_type": "execute_result"
    }
   ],
   "source": [
    "list(filter(lambda a: a>5,range(10)))"
   ]
  },
  {
   "cell_type": "code",
   "execution_count": 19,
   "metadata": {},
   "outputs": [
    {
     "data": {
      "text/plain": [
       "[9, 45, 6, 9]"
      ]
     },
     "execution_count": 19,
     "metadata": {},
     "output_type": "execute_result"
    }
   ],
   "source": [
    "list(filter(lambda a: a>5,[9,2,3,45,6,9]))"
   ]
  },
  {
   "cell_type": "markdown",
   "metadata": {},
   "source": [
    "# File I/O Operations"
   ]
  },
  {
   "cell_type": "code",
   "execution_count": 20,
   "metadata": {},
   "outputs": [
    {
     "name": "stdout",
     "output_type": "stream",
     "text": [
      "r\n",
      "example.txt\n",
      "False\n",
      "True\n"
     ]
    }
   ],
   "source": [
    "fo =open(\"example.txt\",\"r\")\n",
    "print(fo.mode) #Flags\n",
    "print(fo.name)\n",
    "print(fo.closed)\n",
    "fo.close()\n",
    "print(fo.closed)"
   ]
  },
  {
   "cell_type": "code",
   "execution_count": 21,
   "metadata": {},
   "outputs": [
    {
     "name": "stdout",
     "output_type": "stream",
     "text": [
      "r\n",
      "example.txt\n",
      "False\n",
      "True\n"
     ]
    }
   ],
   "source": [
    "fo =open(\"example.txt\",\"r\")\n",
    "print(fo.mode) #Flags\n",
    "print(fo.name)\n",
    "print(fo.closed)\n",
    "fo.close()\n",
    "print(fo.closed)\n"
   ]
  },
  {
   "cell_type": "code",
   "execution_count": 22,
   "metadata": {},
   "outputs": [],
   "source": [
    "fo=open(\"example1.txt\",\"w\")\n",
    "fo.write(\"This is my first written sentence.\\nThis is my second line\")\n",
    "fo.close()"
   ]
  },
  {
   "cell_type": "code",
   "execution_count": 23,
   "metadata": {},
   "outputs": [
    {
     "name": "stdout",
     "output_type": "stream",
     "text": [
      "This is my first written sentence.\n",
      "This is my second line\n"
     ]
    }
   ],
   "source": [
    "fo = open(\"example1.txt\",\"r\")\n",
    "str1=fo.read()\n",
    "print(str1)"
   ]
  },
  {
   "cell_type": "code",
   "execution_count": 24,
   "metadata": {},
   "outputs": [
    {
     "name": "stdout",
     "output_type": "stream",
     "text": [
      "\n"
     ]
    }
   ],
   "source": [
    "str2 = fo.read()\n",
    "print(str2)       #will print nothing"
   ]
  },
  {
   "cell_type": "code",
   "execution_count": 25,
   "metadata": {},
   "outputs": [
    {
     "name": "stdout",
     "output_type": "stream",
     "text": [
      "This is m\n"
     ]
    }
   ],
   "source": [
    "fo = open(\"example1.txt\",\"r\")\n",
    "str1=fo.read(9)\n",
    "print(str1)"
   ]
  },
  {
   "cell_type": "code",
   "execution_count": 26,
   "metadata": {},
   "outputs": [
    {
     "name": "stdout",
     "output_type": "stream",
     "text": [
      "y first written sentence.\n",
      "This is my second line\n"
     ]
    }
   ],
   "source": [
    "str2 = fo.read()\n",
    "print(str2)     "
   ]
  },
  {
   "cell_type": "code",
   "execution_count": 27,
   "metadata": {},
   "outputs": [
    {
     "name": "stdout",
     "output_type": "stream",
     "text": [
      "This is my first written sentence.\n",
      "\n"
     ]
    }
   ],
   "source": [
    "fo = open(\"example1.txt\",\"r\")\n",
    "str1= fo.readline()\n",
    "print(str1)"
   ]
  },
  {
   "cell_type": "code",
   "execution_count": 28,
   "metadata": {},
   "outputs": [
    {
     "name": "stdout",
     "output_type": "stream",
     "text": [
      "This is my second line\n"
     ]
    }
   ],
   "source": [
    "str2=fo.readline()\n",
    "print(str2)"
   ]
  },
  {
   "cell_type": "code",
   "execution_count": 29,
   "metadata": {},
   "outputs": [
    {
     "name": "stdout",
     "output_type": "stream",
     "text": [
      "['This is my first written sentence.\\n', 'This is my second line']\n"
     ]
    }
   ],
   "source": [
    "fo= open(\"example1.txt\",\"r\")\n",
    "str1 = fo.readlines()\n",
    "print(str1) #here we get in list form"
   ]
  },
  {
   "cell_type": "code",
   "execution_count": 30,
   "metadata": {},
   "outputs": [],
   "source": [
    "fo= open(\"example1.txt\",\"a\")\n",
    "fo.write(\"\\nthis is third sentence\")\n",
    "fo.close()"
   ]
  },
  {
   "cell_type": "code",
   "execution_count": 37,
   "metadata": {},
   "outputs": [
    {
     "name": "stdout",
     "output_type": "stream",
     "text": [
      "This is my first written sentence.\n",
      "This is my second line\n",
      "this is third sentence\n"
     ]
    }
   ],
   "source": [
    "fo = open(\"example1.txt\",\"r\")\n",
    "str1=fo.read()\n",
    "print(str1)"
   ]
  },
  {
   "cell_type": "code",
   "execution_count": 1,
   "metadata": {},
   "outputs": [
    {
     "data": {
      "text/plain": [
       "6"
      ]
     },
     "execution_count": 1,
     "metadata": {},
     "output_type": "execute_result"
    }
   ],
   "source": [
    "fo = open(\"C:\\\\Users\\\\Students\\\\Desktop\\\\new_file\\\\example1.txt\",\"w\")\n",
    "fo.write(\"h5432i\")\n"
   ]
  },
  {
   "cell_type": "markdown",
   "metadata": {},
   "source": [
    "# Exception Handling"
   ]
  },
  {
   "cell_type": "code",
   "execution_count": 33,
   "metadata": {},
   "outputs": [
    {
     "name": "stdout",
     "output_type": "stream",
     "text": [
      "hello\n",
      "Not comparable.Enter Correctly\n",
      "Done with the execution\n"
     ]
    }
   ],
   "source": [
    "try:\n",
    "    print(\"hello\")\n",
    "    print(2+\"2\")\n",
    "except TypeError:\n",
    "    print(\"Not comparable.Enter Correctly\")\n",
    "else:\n",
    "    print(\"Succesfully done with the execution\")\n",
    "finally:\n",
    "    print(\"Done with the execution\")"
   ]
  },
  {
   "cell_type": "code",
   "execution_count": 34,
   "metadata": {},
   "outputs": [
    {
     "name": "stdout",
     "output_type": "stream",
     "text": [
      "Please check the file location\n"
     ]
    }
   ],
   "source": [
    "try:\n",
    "    fo= open(\"example3.txt\",\"r\")\n",
    "except FileNotFoundError:\n",
    "    print(\"Please check the file location\")"
   ]
  },
  {
   "cell_type": "code",
   "execution_count": 35,
   "metadata": {},
   "outputs": [
    {
     "name": "stdout",
     "output_type": "stream",
     "text": [
      "don't enter zero\n"
     ]
    }
   ],
   "source": [
    "try:\n",
    "    val=4/0\n",
    "except (ZeroDivisionError, TypeError,ValueError):\n",
    "    print(\"don't enter zero\")"
   ]
  }
 ],
 "metadata": {
  "kernelspec": {
   "display_name": "Python 3",
   "language": "python",
   "name": "python3"
  },
  "language_info": {
   "codemirror_mode": {
    "name": "ipython",
    "version": 3
   },
   "file_extension": ".py",
   "mimetype": "text/x-python",
   "name": "python",
   "nbconvert_exporter": "python",
   "pygments_lexer": "ipython3",
   "version": "3.7.0"
  }
 },
 "nbformat": 4,
 "nbformat_minor": 2
}
