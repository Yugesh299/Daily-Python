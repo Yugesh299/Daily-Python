{
 "cells": [
  {
   "cell_type": "markdown",
   "metadata": {},
   "source": [
    "# HA-16 Submatrix "
   ]
  },
  {
   "cell_type": "code",
   "execution_count": 14,
   "metadata": {},
   "outputs": [
    {
     "name": "stdout",
     "output_type": "stream",
     "text": [
      "enter elements of 3*3 matrix:\n",
      "2\n",
      "36\n",
      "3\n",
      "3\n",
      "1\n",
      "6\n",
      "3\n",
      "9\n",
      "56\n",
      "Matrix is:\n",
      "[[ 2 36  3]\n",
      " [ 3  1  6]\n",
      " [ 3  9 56]]\n",
      "Sub-matrices are:\n",
      "[[ 2 36]\n",
      " [ 3  1]]\n",
      "\n",
      "[[36  3]\n",
      " [ 1  6]]\n",
      "\n",
      "[[3 1]\n",
      " [3 9]]\n",
      "\n",
      "[[ 1  6]\n",
      " [ 9 56]]\n"
     ]
    }
   ],
   "source": [
    "import numpy as np\n",
    "list1=[]\n",
    "print(\"enter elements of 3*3 matrix:\")\n",
    "for var in range(9):\n",
    "    Index1= int(input())\n",
    "    list1.append(Index1)\n",
    "Matrix=np.array(list1)\n",
    "Matrix1=Matrix.reshape(3,3)\n",
    "print(\"Matrix is:\")\n",
    "print(Matrix1)\n",
    "\n",
    "print(\"Sub-matrices are:\")\n",
    "\n",
    "print(Matrix1[:2,:2])\n",
    "print(\"\")\n",
    "print(Matrix1[:2,1:])\n",
    "print(\"\")\n",
    "print(Matrix1[1:,:2])\n",
    "print(\"\")\n",
    "print(Matrix1[1:,1:])"
   ]
  },
  {
   "cell_type": "markdown",
   "metadata": {},
   "source": [
    "## HA-17 Random Matrix Addition"
   ]
  },
  {
   "cell_type": "code",
   "execution_count": 15,
   "metadata": {},
   "outputs": [
    {
     "name": "stdout",
     "output_type": "stream",
     "text": [
      "Enter elements of 3*3 matrix\n",
      "5\n",
      "6\n",
      "3\n",
      "2\n",
      "36\n",
      "3\n",
      "9\n",
      "6\n",
      "2\n",
      "Your matrix is:\n",
      "[[ 5.  6.  3.]\n",
      " [ 2. 36.  3.]\n",
      " [ 9.  6.  2.]]\n",
      "[[0.42665331 0.02498008 0.41887241]\n",
      " [0.97826891 0.6528916  0.81843241]\n",
      " [0.35516654 0.09200162 0.98925692]]\n",
      "[[ 5.42665331  6.02498008  3.41887241]\n",
      " [ 2.97826891 36.6528916   3.81843241]\n",
      " [ 9.35516654  6.09200162  2.98925692]]\n"
     ]
    }
   ],
   "source": [
    "import numpy as np\n",
    "\n",
    "list1=[]\n",
    "print(\"Enter elements of 3*3 matrix\")\n",
    "for var in range(9):\n",
    "    Index1=int(input())\n",
    "    list1.append(Index1)\n",
    "\n",
    "Matrix=np.array(list1,dtype=float)\n",
    "Matrix1=Matrix.reshape(3,3)\n",
    "print(\"Your matrix is:\")\n",
    "print(Matrix1)\n",
    "\n",
    "a=np.random.random((3,3))\n",
    "print(a)\n",
    "\n",
    "print(np.add(Matrix1,a))"
   ]
  },
  {
   "cell_type": "markdown",
   "metadata": {},
   "source": [
    "# HA-18 Operations on matrix"
   ]
  },
  {
   "cell_type": "code",
   "execution_count": null,
   "metadata": {},
   "outputs": [
    {
     "name": "stdout",
     "output_type": "stream",
     "text": [
      "Enter elements of  1st 3*3 matrix\n"
     ]
    }
   ],
   "source": [
    "import numpy as np\n",
    "list1=[]\n",
    "list2=[]\n",
    "print(\"Enter elements of  1st 3*3 matrix\")\n",
    "for var in range(9):\n",
    "    Index1=int(input())\n",
    "    list1.append(Index1)\n",
    "\n",
    "A_Matrix1=np.array(list1)\n",
    "Matrix1=A_Matrix1.reshape(3*3)\n",
    "print(\"Matrix is:\")\n",
    "print(Matrix1)\n",
    "print(\"*************\")\n",
    "\n",
    "print(\"Enter elements of 2nd 3*3 matrix\")\n",
    "for var in range(9):\n",
    "    Index1=int(input())\n",
    "    list2.append(Index1)\n",
    "\n",
    "\n",
    "A_Matrix2=np.array(list1)\n",
    "Matrix2=A_Matrix2.reshape(3*3)#matrix 1\n",
    "print(\"Matrix is:\")\n",
    "print(Matrix2)\n",
    "\n",
    "print(\"Matrix addition:\")\n",
    "print(np.add(Matrix1,Matrix2))\n",
    "\n",
    "print(\"Matrix subtraction:\")\n",
    "print(np.subtract(Matrix1,Matrix2))\n",
    "\n",
    "print(\"Matrix Multiplication:\")\n",
    "print(np.multiply(Matrix1,Matrix2))\n",
    "\n",
    "print(\"Matrix division:\")\n",
    "print(np.divide(Matrix1,Matrix2))"
   ]
  },
  {
   "cell_type": "markdown",
   "metadata": {},
   "source": [
    "# HA-19 Plotting Exponential Curves"
   ]
  },
  {
   "cell_type": "code",
   "execution_count": 2,
   "metadata": {},
   "outputs": [
    {
     "data": {
      "image/png": "[encoded data removed]",
      "text/plain": [
       "<Figure size 432x288 with 1 Axes>"
      ]
     },
     "metadata": {
      "needs_background": "light"
     },
     "output_type": "display_data"
    }
   ],
   "source": [
    "import numpy as np \n",
    "import matplotlib.pyplot as plt\n",
    "\n",
    "\n",
    "input1 = np.linspace(0,5,200)\n",
    "intputx = np.exp(input1)\n",
    "\n",
    "input2 = np.linspace(0,2,200)\n",
    "intputy = np.exp(input2)\n",
    "\n",
    "input3=np.linspace(0,3,200)\n",
    "intputz = np.exp(input3)\n",
    "\n",
    "input4=np.linspace(0,4,200)\n",
    "intputa = np.exp(input4)\n",
    "\n",
    "input5=np.linspace(0,5,200)\n",
    "intputb = np.exp(input5)\n",
    "\n",
    "input6=np.linspace(0,6,200)\n",
    "intputc = np.exp(input6)\n",
    "\n",
    "plt.figure()\n",
    "\n",
    "plt.plot(input1,intputx,'r')\n",
    "plt.plot(input1,intputy,'g')\n",
    "plt.plot(input1,intputz,'k')\n",
    "plt.plot(input1,intputa,'y')\n",
    "plt.plot(input1,intputb,'b')\n",
    "plt.plot(input1,intputc,'c')\n",
    "plt.show()\n",
    "\n",
    "\n"
   ]
  },
  {
   "cell_type": "code",
   "execution_count": null,
   "metadata": {},
   "outputs": [],
   "source": []
  }
 ],
 "metadata": {
  "kernelspec": {
   "display_name": "Python 3",
   "language": "python",
   "name": "python3"
  },
  "language_info": {
   "codemirror_mode": {
    "name": "ipython",
    "version": 3
   },
   "file_extension": ".py",
   "mimetype": "text/x-python",
   "name": "python",
   "nbconvert_exporter": "python",
   "pygments_lexer": "ipython3",
   "version": "3.7.3"
  }
 },
 "nbformat": 4,
 "nbformat_minor": 2
}
