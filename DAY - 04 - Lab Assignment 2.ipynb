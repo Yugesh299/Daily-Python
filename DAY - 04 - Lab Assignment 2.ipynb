{
 "cells": [
  {
   "cell_type": "markdown",
   "metadata": {},
   "source": [
    "## Lab 6 - Chess position colour check"
   ]
  },
  {
   "cell_type": "code",
   "execution_count": 1,
   "metadata": {},
   "outputs": [
    {
     "name": "stdout",
     "output_type": "stream",
     "text": [
      "Enter the postion (eg: a1,b2,c3)a4\n",
      "Position: white\n"
     ]
    }
   ],
   "source": [
    "i=input(\"Enter the postion (eg: a1,b2,c3)\")\n",
    "if len(i)>2:\n",
    "    print(\"invaild\")\n",
    "\n",
    "\n",
    "l = i[0]\n",
    "t = i[1]\n",
    "if l.isnumeric():\n",
    "    print(\"Invaild\")\n",
    "\n",
    "if(t.isdigit())== True:\n",
    "    \n",
    "\n",
    "    while len(i)!=2:\n",
    "        print(\"The position can have only two elements\")\n",
    "        i=input(\"Enter the postion (eg: a1,b2,c3)\")\n",
    "\n",
    "        l = i[0]\n",
    "        n = int(i[1])\n",
    "#if len(i)==2:\n",
    "    \n",
    "    n = int(i[1])    \n",
    "    if n==0:\n",
    "        print(\"Positional Value invalid \")\n",
    "        i=input(\"Enter the postion (eg: a1,b2,c3)\")\n",
    "        n = int(i[1])\n",
    "    else:\n",
    "        if n>8:\n",
    "            print(\"Positional Value invalid \")\n",
    "            i=input(\"Enter the postion (eg: a1,b2,c3)\")\n",
    "            n = int(i[1])\n",
    "    list1=[\"a\",\"b\",\"c\",\"d\",\"e\",\"f\",\"g\",\"h\"]\n",
    "    for item in range(8):\n",
    "         if l==list1[int(item)]:\n",
    "            p=item+1\n",
    "    \n",
    "    \n",
    "    if p%2!=0:\n",
    "        if n%2!=0:\n",
    "             print(\"Position: black\")\n",
    "        else:\n",
    "             print(\"Position: white\")\n",
    "    else:\n",
    "        if n%2!=0:\n",
    "            print(\"Position: white\")\n",
    "        \n",
    "        else:\n",
    "            print(\"Position: black\")\n",
    "\n",
    "else:\n",
    "    print(\"Invalid entry\")"
   ]
  },
  {
   "cell_type": "markdown",
   "metadata": {},
   "source": [
    "## Lab 7 - Dictionary of cubes"
   ]
  },
  {
   "cell_type": "code",
   "execution_count": null,
   "metadata": {},
   "outputs": [],
   "source": [
    "n=int(input(\"Enter a digit: \"))\n",
    "dict1 = {}\n",
    "for i in range(n):\n",
    "    dict1[i+1]=((i+1)**3)\n",
    "print(list(dict1.values()))\n"
   ]
  },
  {
   "cell_type": "markdown",
   "metadata": {},
   "source": [
    "## Lab 8 - Phone Book Number Check"
   ]
  },
  {
   "cell_type": "code",
   "execution_count": null,
   "metadata": {},
   "outputs": [],
   "source": [
    "l=0\n",
    "while l==0:\n",
    "    N = int(input(\"Enter The total number of contacts: \"))\n",
    "    dict2 = {}\n",
    "\n",
    "    for i in range(N):\n",
    "        name = input(\"Enter contact name: \")\n",
    "        num = input(\"Enter contact number: \")\n",
    "        dict2[name] = num\n",
    "    \n",
    "    number = input(\"Enter a number to search contact: \")\n",
    "    \n",
    "    list1 = list(dict2.keys())\n",
    "    list2 = list(dict2.values())\n",
    "\n",
    "    for j in range(N):\n",
    "        if number == list2[j]:\n",
    "            print(\"The desired contact is: \",list1[j])\n",
    "    \n",
    "    l=int(input(\"press any number greater than 1 to try again and 0 to quit:\"))"
   ]
  },
  {
   "cell_type": "code",
   "execution_count": null,
   "metadata": {},
   "outputs": [],
   "source": [
    "# Alternative method\n",
    "N = int(input(\"Enter The total number of contacts: \"))\n",
    "dict2 = {}\n",
    "for i in range(N):\n",
    "    name = input(\"Enter contact name: \")\n",
    "    num = input(\"Enter contact number: \")\n",
    "    dict2[name] = num\n",
    "    \n",
    "number = input(\"Enter a number to search contact: \")\n",
    "\n",
    "for k,v in dict2.items():\n",
    "    if number == v:\n",
    "        print(\"The name is: \", k )\n",
    "        \n",
    "    "
   ]
  },
  {
   "cell_type": "markdown",
   "metadata": {},
   "source": [
    "## Lab 9- Guess the number game"
   ]
  },
  {
   "cell_type": "code",
   "execution_count": null,
   "metadata": {},
   "outputs": [
    {
     "name": "stdout",
     "output_type": "stream",
     "text": [
      "Trial:  1\n",
      "Enter a number: 2\n",
      "Far away\n",
      "Trial:  2\n",
      "Enter a number: 2\n",
      "Far away\n",
      "Trial:  3\n",
      "Enter a number: 5\n",
      " SO CLose!\n",
      "\n",
      " You lost! \n",
      "The correct value is:  6\n",
      "press 1 to continue and 0 to quit0\n",
      "Trial:  1\n",
      "Enter a number: 1\n",
      "Far away\n",
      "Trial:  2\n",
      "Enter a number: 2\n",
      "Far away\n",
      "Trial:  3\n",
      "Enter a number: 5\n",
      " SO CLose!\n",
      "\n",
      " You lost! \n",
      "The correct value is:  6\n",
      "press 1 to continue and 0 to quit0\n",
      "Trial:  1\n"
     ]
    }
   ],
   "source": [
    "import random\n",
    "num = random.randint(1,9)\n",
    "l=0\n",
    "while l==0: \n",
    "    for i in range(3):\n",
    "        print(\"Trial: \",i+1)\n",
    "        t=int(input(\"Enter a number: \"))\n",
    "        if t==num:\n",
    "            print(\"You win\")\n",
    "            break\n",
    "        \n",
    "        elif t>(num+3) or t<(num-3):\n",
    "            print(\"Far away\")\n",
    "            if i==2:\n",
    "                print(\"\\n You lost! \\nThe correct value is: \", num) \n",
    "    \n",
    "        else:\n",
    "            print(\" SO CLose!\")\n",
    "            if i==2:\n",
    "                print(\"\\n You lost! \\nThe correct value is: \", num) \n",
    "    l=int(input(\"press 1 to continue and 0 to quit\"))           \n",
    "    \n",
    "    "
   ]
  },
  {
   "cell_type": "code",
   "execution_count": null,
   "metadata": {},
   "outputs": [],
   "source": []
  }
 ],
 "metadata": {
  "kernelspec": {
   "display_name": "Python 3",
   "language": "python",
   "name": "python3"
  },
  "language_info": {
   "codemirror_mode": {
    "name": "ipython",
    "version": 3
   },
   "file_extension": ".py",
   "mimetype": "text/x-python",
   "name": "python",
   "nbconvert_exporter": "python",
   "pygments_lexer": "ipython3",
   "version": "3.7.0"
  }
 },
 "nbformat": 4,
 "nbformat_minor": 2
}
