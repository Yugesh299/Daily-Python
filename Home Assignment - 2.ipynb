{
 "cells": [
  {
   "cell_type": "markdown",
   "metadata": {},
   "source": [
    "# HA-7 Addition of marks"
   ]
  },
  {
   "cell_type": "code",
   "execution_count": null,
   "metadata": {},
   "outputs": [],
   "source": [
    "dict1={\"Eng\":89,\"maths\":85,\"Cs-1\":75,\"cs-2\":67,\"Phy\":60,\"Chem\":65}\n",
    "a=dict1[\"Eng\"]+dict1[\"maths\"]+dict1[\"Cs-1\"]+dict1[\"cs-2\"]+dict1[\"Phy\"]+dict1[\"Chem\"]\n",
    "print(\"The total score is \",a)"
   ]
  },
  {
   "cell_type": "markdown",
   "metadata": {},
   "source": [
    "# HA - 8 Table of 7"
   ]
  },
  {
   "cell_type": "code",
   "execution_count": null,
   "metadata": {},
   "outputs": [],
   "source": [
    "num = 7\n",
    "\n",
    "print(\"Multiplication Table of\", num)\n",
    "for i in range(1, 11):\n",
    "    print(num,\"*\",i,\"=\",num * i)"
   ]
  },
  {
   "cell_type": "markdown",
   "metadata": {},
   "source": [
    "# HA-9-sum of n numbers"
   ]
  },
  {
   "cell_type": "code",
   "execution_count": null,
   "metadata": {},
   "outputs": [],
   "source": [
    "num = int(input(\"Enter a number: \"))\n",
    "\n",
    "if num < 0:\n",
    "    print(\"Enter a positive number\")\n",
    "else:\n",
    "    sum = 0\n",
    "    while(num > 0):\n",
    "        sum += num\n",
    "        num -= 1\n",
    "    print(\"The sum is\",sum)"
   ]
  },
  {
   "cell_type": "markdown",
   "metadata": {},
   "source": [
    "# HA-10-List of numbers divisible by 3"
   ]
  },
  {
   "cell_type": "code",
   "execution_count": 1,
   "metadata": {},
   "outputs": [
    {
     "name": "stdout",
     "output_type": "stream",
     "text": [
      "Enter number 1: 5\n",
      "Enter number 2: 2\n",
      "Enter number 3: 4\n",
      "Enter number 4: 1\n",
      "Enter number 5: 2\n",
      "Enter number 6: 3\n",
      "Enter number 7: 6\n",
      "Enter number 8: 9\n",
      "Enter number 9: 81\n",
      "Enter number 10: 3\n",
      "[3, 6, 9, 81, 3]\n"
     ]
    }
   ],
   "source": [
    "t=1\n",
    "#main \n",
    "listfirst = []\n",
    "for iterative in range(10):\n",
    "    number=int(input(\"Enter number %d: \"%t))\n",
    "    t+=1\n",
    "    if number%3==0:\n",
    "        listfirst.append(number)\n",
    "#output\n",
    "print(listfirst)"
   ]
  }
 ],
 "metadata": {
  "kernelspec": {
   "display_name": "Python 3",
   "language": "python",
   "name": "python3"
  },
  "language_info": {
   "codemirror_mode": {
    "name": "ipython",
    "version": 3
   },
   "file_extension": ".py",
   "mimetype": "text/x-python",
   "name": "python",
   "nbconvert_exporter": "python",
   "pygments_lexer": "ipython3",
   "version": "3.7.3"
  }
 },
 "nbformat": 4,
 "nbformat_minor": 2
}
