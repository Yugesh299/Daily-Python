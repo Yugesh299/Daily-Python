{
 "cells": [
  {
   "cell_type": "code",
   "execution_count": 7,
   "metadata": {},
   "outputs": [
    {
     "data": {
      "text/plain": [
       "'eyJraWQiOiIyMDE5MDIwNCIsImFsZyI6IlJTMjU2In0.eyJpYW1faWQiOiJpYW0tU2VydmljZUlkLTNhNWE1YmU5LTc0NmQtNGJmMC05NzJhLTNhYzczNzczYjljMyIsImlkIjoiaWFtLVNlcnZpY2VJZC0zYTVhNWJlOS03NDZkLTRiZjAtOTcyYS0zYWM3Mzc3M2I5YzMiLCJyZWFsbWlkIjoiaWFtIiwiaWRlbnRpZmllciI6IlNlcnZpY2VJZC0zYTVhNWJlOS03NDZkLTRiZjAtOTcyYS0zYWM3Mzc3M2I5YzMiLCJzdWIiOiJTZXJ2aWNlSWQtM2E1YTViZTktNzQ2ZC00YmYwLTk3MmEtM2FjNzM3NzNiOWMzIiwic3ViX3R5cGUiOiJTZXJ2aWNlSWQiLCJhY2NvdW50Ijp7InZhbGlkIjp0cnVlLCJic3MiOiIyNzk1MTQyODMzMTk0NDc2OTI3NzdhYTY4NjZiYTU4MCJ9LCJpYXQiOjE1NjIyMzM5NzIsImV4cCI6MTU2MjIzNzU3MiwiaXNzIjoiaHR0cHM6Ly9pYW0ubmcuYmx1ZW1peC5uZXQvb2lkYy90b2tlbiIsImdyYW50X3R5cGUiOiJ1cm46aWJtOnBhcmFtczpvYXV0aDpncmFudC10eXBlOmFwaWtleSIsInNjb3BlIjoiaWJtIG9wZW5pZCIsImNsaWVudF9pZCI6ImJ4IiwiYWNyIjoxLCJhbXIiOlsicHdkIl19.Ps_ulNdVQd1Ge75_q0Nxw0osqN6JuAAwk_tMFzUI-K9zeVQMWvEGUBUba-6ruTAiyefh16FhjUHo881eK_Fl8gHIr1CjgnA0i-isW7fDIdepTe5ShS3Ivx_Bd5vfjReXNE2wJNsm88_uGvlgOtkNftuSZq-JAv80xyichulbqGKo4U-uFPHIo0kGe_eUS_T8KesFRvV_caJhROISeM-YE-TXqKLQX5aqeo0Brg7asP-4bE_l3kc6H8IwwRccNn1Cj1Amdd1Bneqq3nSq0iLbWfi1YgWLI_6Xq4hKQiPSfbsSOuOiEJzep2fUPlEi1OQiKy0QOgqIVlu0YLwzq0i5EQ'"
      ]
     },
     "execution_count": 7,
     "metadata": {},
     "output_type": "execute_result"
    }
   ],
   "source": [
    "import requests\n",
    "apikey=\"IeEQgEFvfu7g409mrWkIoXvvan_SLWX6ZEs4M9KYefl4\"\n",
    "\n",
    "url = \"https://iam.bluemix.net/oidc/token\"\n",
    "headers = {\"Content-Type\" : \"application/x-www-form-urlencoded\"}\n",
    "data = \"apikey=\" +apikey +\\\n",
    "\"&grant_type=urn:ibm:params:oauth:grant-type:apikey\"\n",
    "IBM_cloud_IAM_uid = \"bx\"\n",
    "IBM_cloud_IAM_pwd = \"bx\"\n",
    "response = requests.post(url,headers=headers,data=data, auth=(IBM_cloud_IAM_uid, IBM_cloud_IAM_pwd))\n",
    "iam_token = response.json()[\"access_token\"]\n",
    "iam_token"
   ]
  },
  {
   "cell_type": "code",
   "execution_count": 11,
   "metadata": {},
   "outputs": [
    {
     "name": "stdout",
     "output_type": "stream",
     "text": [
      "Scoring response\n",
      "{'fields': ['T_degC', 'features', 'prediction'], 'values': [[12.0, [3.8814953688432814], 33.05854888796827], [2.0, [0.6469158948072136], 34.56477700653914]]}\n"
     ]
    }
   ],
   "source": [
    "import urllib3, requests, json\n",
    "ml_instance_id=\"6937b628-122b-41bf-af2d-97279e3606e0\"\n",
    "# NOTE: generate iam_token and retrieve ml_instance_id based on provided documentation\t\n",
    "header = {'Content-Type': 'application/json', 'Authorization': 'Bearer ' + iam_token, 'ML-Instance-ID': ml_instance_id}\n",
    "\n",
    "# NOTE: manually define and pass the array(s) of values to be scored in the next line\n",
    "payload_scoring = {\"fields\": [\"T_degC\"], \"values\": [[12],[2]]}\n",
    "\n",
    "response_scoring = requests.post('https://eu-gb.ml.cloud.ibm.com/v3/wml_instances/6937b628-122b-41bf-af2d-97279e3606e0/deployments/2bf0fc2e-7bfe-4851-908e-2483be968bf7/online', json=payload_scoring, headers=header)\n",
    "print(\"Scoring response\")\n",
    "print(json.loads(response_scoring.text))"
   ]
  },
  {
   "cell_type": "code",
   "execution_count": null,
   "metadata": {},
   "outputs": [],
   "source": []
  },
  {
   "cell_type": "markdown",
   "metadata": {},
   "source": [
    "# Iris Classification"
   ]
  },
  {
   "cell_type": "code",
   "execution_count": 14,
   "metadata": {},
   "outputs": [
    {
     "data": {
      "text/plain": [
       "'eyJraWQiOiIyMDE5MDIwNCIsImFsZyI6IlJTMjU2In0.eyJpYW1faWQiOiJpYW0tU2VydmljZUlkLTRiYTIwODkwLTY4OWMtNGI4YS1hYjVkLWUzZDQyMGViYTdiMSIsImlkIjoiaWFtLVNlcnZpY2VJZC00YmEyMDg5MC02ODljLTRiOGEtYWI1ZC1lM2Q0MjBlYmE3YjEiLCJyZWFsbWlkIjoiaWFtIiwiaWRlbnRpZmllciI6IlNlcnZpY2VJZC00YmEyMDg5MC02ODljLTRiOGEtYWI1ZC1lM2Q0MjBlYmE3YjEiLCJzdWIiOiJTZXJ2aWNlSWQtNGJhMjA4OTAtNjg5Yy00YjhhLWFiNWQtZTNkNDIwZWJhN2IxIiwic3ViX3R5cGUiOiJTZXJ2aWNlSWQiLCJhY2NvdW50Ijp7InZhbGlkIjp0cnVlLCJic3MiOiIyNzk1MTQyODMzMTk0NDc2OTI3NzdhYTY4NjZiYTU4MCJ9LCJpYXQiOjE1NjIyMzcwNDAsImV4cCI6MTU2MjI0MDY0MCwiaXNzIjoiaHR0cHM6Ly9pYW0ubmcuYmx1ZW1peC5uZXQvb2lkYy90b2tlbiIsImdyYW50X3R5cGUiOiJ1cm46aWJtOnBhcmFtczpvYXV0aDpncmFudC10eXBlOmFwaWtleSIsInNjb3BlIjoiaWJtIG9wZW5pZCIsImNsaWVudF9pZCI6ImJ4IiwiYWNyIjoxLCJhbXIiOlsicHdkIl19.GQcZYa1T2G0WGbKKDA4O0eA_fHqx4nvFpCIrXMsNuxgHbSJ7XVjZskvSppBKQoXVEd8ryzQVpdpvDG_1PwiRawuBo9G6Yv8s_Rz_z5BXRyqKN33iJ6XH1oayRBLj26M7vPn3vXACxzjjJrJ5PC_FgPNhPejbKSPTJzdaFMvUe4_5WyzlxxvSsbowQNb9mouFT-ZAmtvEpNFiz-wQH56xFMjfTBbHB00OtfF9CSzHUkubIFVv2acI23U59MBlOWjefhcZzWl-2A5vw_m4k8uXTTBbz-W5JpdQICdN-fNbhFLd-cg6j1tLP4FvwB_STQOUq8AMjW2Q6QN6C7_c0cM29A'"
      ]
     },
     "execution_count": 14,
     "metadata": {},
     "output_type": "execute_result"
    }
   ],
   "source": [
    "import requests\n",
    "apikey= \"kmFf-QiTSmVHzkDh9nLvAQZefCOjZbeZQgP0FYIH5NTx\"\n",
    "\n",
    "\n",
    "url = \"https://iam.bluemix.net/oidc/token\"\n",
    "headers = {\"Content-Type\" : \"application/x-www-form-urlencoded\"}\n",
    "data = \"apikey=\" +apikey +\\\n",
    "\"&grant_type=urn:ibm:params:oauth:grant-type:apikey\"\n",
    "IBM_cloud_IAM_uid = \"bx\"\n",
    "IBM_cloud_IAM_pwd = \"bx\"\n",
    "response = requests.post(url,headers=headers,data=data, auth=(IBM_cloud_IAM_uid, IBM_cloud_IAM_pwd))\n",
    "iam_token = response.json()[\"access_token\"]\n",
    "iam_token"
   ]
  },
  {
   "cell_type": "code",
   "execution_count": 17,
   "metadata": {},
   "outputs": [
    {
     "name": "stdout",
     "output_type": "stream",
     "text": [
      "Scoring response\n",
      "{'fields': ['Sepal_length', 'Sepal_Width', 'Petal_length', 'Petal_width', 'features', 'rawPrediction', 'probability', 'prediction', 'nodeADP_class', 'nodeADP_classes'], 'values': [[3.0, 4.0, 5.0, 6.0, [2.8068414274296845, 7.735633818221988], [25.0, 0.0, 0.0], [1.0, 0.0, 0.0], 0.0, 'Iris-virginica', ['Iris-virginica', 'Iris-setosa', 'Iris-versicolor']]]}\n"
     ]
    }
   ],
   "source": [
    "import urllib3, requests, json\n",
    "ml_instance_id = \"6937b628-122b-41bf-af2d-97279e3606e0\"\n",
    "# NOTE: generate iam_token and retrieve ml_instance_id based on provided documentation\t\n",
    "header = {'Content-Type': 'application/json', 'Authorization': 'Bearer ' + iam_token, 'ML-Instance-ID': ml_instance_id}\n",
    "\n",
    "# NOTE: manually define and pass the array(s) of values to be scored in the next line\n",
    "payload_scoring = {\"fields\": [\"Sepal_length\", \"Sepal_Width\", \"Petal_length\", \"Petal_width\"], \"values\": [[3,4,5,6]]}\n",
    "\n",
    "response_scoring = requests.post('https://eu-gb.ml.cloud.ibm.com/v3/wml_instances/6937b628-122b-41bf-af2d-97279e3606e0/deployments/8324e614-8c15-49a0-8b10-bd8edeef7c77/online', json=payload_scoring, headers=header)\n",
    "print(\"Scoring response\")\n",
    "print(json.loads(response_scoring.text))"
   ]
  },
  {
   "cell_type": "code",
   "execution_count": null,
   "metadata": {},
   "outputs": [],
   "source": []
  }
 ],
 "metadata": {
  "kernelspec": {
   "display_name": "Python 3",
   "language": "python",
   "name": "python3"
  },
  "language_info": {
   "codemirror_mode": {
    "name": "ipython",
    "version": 3
   },
   "file_extension": ".py",
   "mimetype": "text/x-python",
   "name": "python",
   "nbconvert_exporter": "python",
   "pygments_lexer": "ipython3",
   "version": "3.7.0"
  }
 },
 "nbformat": 4,
 "nbformat_minor": 2
}
