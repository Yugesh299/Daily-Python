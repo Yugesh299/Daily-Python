{
 "cells": [
  {
   "cell_type": "markdown",
   "metadata": {},
   "source": [
    "# Basics of Python\n"
   ]
  },
  {
   "cell_type": "code",
   "execution_count": 1,
   "metadata": {},
   "outputs": [
    {
     "name": "stdout",
     "output_type": "stream",
     "text": [
      "Hello world\n"
     ]
    }
   ],
   "source": [
    "print(\"Hello world\")"
   ]
  },
  {
   "cell_type": "code",
   "execution_count": 2,
   "metadata": {},
   "outputs": [
    {
     "name": "stdout",
     "output_type": "stream",
     "text": [
      "4\n",
      "<class 'float'>\n",
      "char\n",
      "<class 'str'>\n"
     ]
    }
   ],
   "source": [
    "print(4)\n",
    "print(type(4.5))\n",
    "\n",
    "print('char')\n",
    "print(type('a'))"
   ]
  },
  {
   "cell_type": "markdown",
   "metadata": {},
   "source": [
    "- Arithmetic Operations\n",
    "\n"
   ]
  },
  {
   "cell_type": "code",
   "execution_count": 3,
   "metadata": {},
   "outputs": [
    {
     "name": "stdout",
     "output_type": "stream",
     "text": [
      "3\n",
      "-1\n",
      "112\n",
      "14\n",
      "1\n",
      "256\n"
     ]
    }
   ],
   "source": [
    "print(1+2)\n",
    "print(2-3)\n",
    "print(28*4)\n",
    "print(29//2)\n",
    "print(1%3)\n",
    "print(2**8)"
   ]
  },
  {
   "cell_type": "code",
   "execution_count": 4,
   "metadata": {},
   "outputs": [
    {
     "name": "stdout",
     "output_type": "stream",
     "text": [
      "7.0\n"
     ]
    }
   ],
   "source": [
    "print(7/1)\n"
   ]
  },
  {
   "cell_type": "code",
   "execution_count": 5,
   "metadata": {},
   "outputs": [
    {
     "name": "stdout",
     "output_type": "stream",
     "text": [
      "6\n"
     ]
    }
   ],
   "source": [
    "print(2*3)\n"
   ]
  },
  {
   "cell_type": "code",
   "execution_count": 6,
   "metadata": {},
   "outputs": [
    {
     "name": "stdout",
     "output_type": "stream",
     "text": [
      "0.6666666666666666\n"
     ]
    }
   ],
   "source": [
    "print(2/3)"
   ]
  },
  {
   "cell_type": "markdown",
   "metadata": {},
   "source": [
    "- List"
   ]
  },
  {
   "cell_type": "code",
   "execution_count": 7,
   "metadata": {},
   "outputs": [
    {
     "name": "stdout",
     "output_type": "stream",
     "text": [
      "[1, 0.1411764705882353, 'yugesh', 9.0]\n",
      "<class 'list'>\n"
     ]
    }
   ],
   "source": [
    "list1=[1,12/85,'yugesh',9.0] \n",
    "print(list1)\n",
    "print(type(list1))"
   ]
  },
  {
   "cell_type": "markdown",
   "metadata": {},
   "source": [
    "- List Indexing"
   ]
  },
  {
   "cell_type": "code",
   "execution_count": 8,
   "metadata": {},
   "outputs": [
    {
     "name": "stdout",
     "output_type": "stream",
     "text": [
      "yugesh\n",
      "<class 'str'>\n"
     ]
    }
   ],
   "source": [
    "print(list1[2])\n",
    "list1[0]\n",
    "list1[1]\n",
    "list1[3]\n",
    "print(type(list1[2]))"
   ]
  },
  {
   "cell_type": "code",
   "execution_count": 9,
   "metadata": {},
   "outputs": [],
   "source": [
    "list1[0]=5"
   ]
  },
  {
   "cell_type": "code",
   "execution_count": 10,
   "metadata": {},
   "outputs": [
    {
     "data": {
      "text/plain": [
       "9.0"
      ]
     },
     "execution_count": 10,
     "metadata": {},
     "output_type": "execute_result"
    }
   ],
   "source": [
    "list1[3]"
   ]
  },
  {
   "cell_type": "code",
   "execution_count": 11,
   "metadata": {},
   "outputs": [],
   "source": [
    "list1[1]='hello'"
   ]
  },
  {
   "cell_type": "code",
   "execution_count": 12,
   "metadata": {},
   "outputs": [
    {
     "name": "stdout",
     "output_type": "stream",
     "text": [
      "[5, 'hello', 'yugesh', 9.0]\n"
     ]
    }
   ],
   "source": [
    "print(list1)"
   ]
  },
  {
   "cell_type": "code",
   "execution_count": 13,
   "metadata": {},
   "outputs": [
    {
     "name": "stdout",
     "output_type": "stream",
     "text": [
      "[5, 'hello', 'yugesh', 9.0, 1, 2, 3, 4, 5]\n",
      "[5, 'hello', 'yugesh', 9.0, 5, 'hello', 'yugesh', 9.0]\n"
     ]
    }
   ],
   "source": [
    "list2=[1,2,3,4,5]\n",
    "list2=[1,2,3,4,5]\n",
    "print(list1+list2)\n",
    "#print(list1-list2)\n",
    "#print(list1*list2)\n",
    "print(list1*2)\n",
    "#print(list1/list2)"
   ]
  },
  {
   "cell_type": "markdown",
   "metadata": {},
   "source": [
    "- List Slicing"
   ]
  },
  {
   "cell_type": "code",
   "execution_count": 14,
   "metadata": {},
   "outputs": [
    {
     "name": "stdout",
     "output_type": "stream",
     "text": [
      "[1, 3, 5, 7, 9]\n",
      "[2, 4, 6, 8, 10]\n"
     ]
    }
   ],
   "source": [
    "list2=[1,2,3,4,5,6,7,8,9,10]\n",
    "print(list2[::2])\n",
    "print(list2[1::2])"
   ]
  },
  {
   "cell_type": "markdown",
   "metadata": {},
   "source": [
    "- Negative Indexing"
   ]
  },
  {
   "cell_type": "code",
   "execution_count": 15,
   "metadata": {},
   "outputs": [
    {
     "name": "stdout",
     "output_type": "stream",
     "text": [
      "10\n",
      "[6, 7, 8, 9, 10]\n",
      "[10, 9, 8, 7, 6, 5, 4, 3, 2, 1]\n"
     ]
    }
   ],
   "source": [
    "list2=[1,2,3,4,5,6,7,8,9,10]\n",
    "print(list2[-1])\n",
    "print(list2[-5:])\n",
    "print(list2[::-1])"
   ]
  },
  {
   "cell_type": "markdown",
   "metadata": {},
   "source": [
    "- List Functions"
   ]
  },
  {
   "cell_type": "code",
   "execution_count": 16,
   "metadata": {},
   "outputs": [
    {
     "name": "stdout",
     "output_type": "stream",
     "text": [
      "[1, 2, 3, 4, 5, 6, 7, 8, 9, 10, [4, 2, 3, 4, 5, 5]]\n",
      "[1, 2, 3, 4, 5, 6, 7, 8, 9, 10, [4, 2, 3, 4, 5, 5]]\n"
     ]
    }
   ],
   "source": [
    "list2=[1,2,3,4,5,6,7,8,9,10]\n",
    "list2.append([4,2,3,4,5,5])\n",
    "print(list2)\n",
    "\n",
    "print((list2))"
   ]
  },
  {
   "cell_type": "code",
   "execution_count": 17,
   "metadata": {},
   "outputs": [
    {
     "name": "stdout",
     "output_type": "stream",
     "text": [
      "[1, 3, 4, 5, 6, 7, 8, 9, 10]\n",
      "10\n"
     ]
    }
   ],
   "source": [
    "list2=[1,2,3,4,5,6,7,8,9,10]\n",
    "list2.remove(2)\n",
    "print(list2)\n",
    "\n",
    "\n",
    "print(list2[-1])"
   ]
  },
  {
   "cell_type": "code",
   "execution_count": 18,
   "metadata": {},
   "outputs": [
    {
     "name": "stdout",
     "output_type": "stream",
     "text": [
      "[0, 1, 1, 3, 3, 3, 5, 5, 5, 7, 7, 9]\n",
      "[9, 7, 7, 5, 5, 5, 3, 3, 3, 1, 1, 0]\n"
     ]
    }
   ],
   "source": [
    "list1=[1,3,5,3,1,5,7,9,3,5,7,0]\n",
    "list1.sort()\n",
    "print(list1)\n",
    "list1.sort(reverse=True)\n",
    "print(list1)"
   ]
  },
  {
   "cell_type": "code",
   "execution_count": 19,
   "metadata": {},
   "outputs": [
    {
     "name": "stdout",
     "output_type": "stream",
     "text": [
      "[]\n"
     ]
    }
   ],
   "source": [
    "list1=[1,3,5,3,1,5,7,9,3,5,7,0]\n",
    "list1.clear() \n",
    "print(list1)\n"
   ]
  },
  {
   "cell_type": "markdown",
   "metadata": {},
   "source": [
    "# string operations\n"
   ]
  },
  {
   "cell_type": "markdown",
   "metadata": {},
   "source": [
    "- string indexing"
   ]
  },
  {
   "cell_type": "code",
   "execution_count": 20,
   "metadata": {},
   "outputs": [
    {
     "name": "stdout",
     "output_type": "stream",
     "text": [
      "H\n"
     ]
    }
   ],
   "source": [
    "str1 =\"Hello World!\"\n",
    "print(str1[0])"
   ]
  },
  {
   "cell_type": "markdown",
   "metadata": {},
   "source": [
    "- sting slicing"
   ]
  },
  {
   "cell_type": "code",
   "execution_count": 21,
   "metadata": {},
   "outputs": [
    {
     "name": "stdout",
     "output_type": "stream",
     "text": [
      "Hello\n",
      "World\n",
      "l r\n"
     ]
    }
   ],
   "source": [
    "str1 =\"Hello World!\"\n",
    "print(str1[:5])\n",
    "print(str1[6:-1])\n",
    "print(str1[2:11:3])"
   ]
  },
  {
   "cell_type": "markdown",
   "metadata": {},
   "source": [
    "- string operations"
   ]
  },
  {
   "cell_type": "code",
   "execution_count": 22,
   "metadata": {},
   "outputs": [
    {
     "name": "stdout",
     "output_type": "stream",
     "text": [
      "hellohello\n",
      "hellohello\n"
     ]
    }
   ],
   "source": [
    "str11='hello'\n",
    "str22='world'\n",
    "print(str11+str11)\n",
    "print(str11*2)"
   ]
  },
  {
   "cell_type": "markdown",
   "metadata": {},
   "source": [
    "- string formating"
   ]
  },
  {
   "cell_type": "code",
   "execution_count": 23,
   "metadata": {},
   "outputs": [
    {
     "name": "stdout",
     "output_type": "stream",
     "text": [
      "first number is 10 and second number is 12.300000\n",
      "first number is 10 and second number is 12.3\n",
      "first number is 12.3 and second number is 10\n"
     ]
    }
   ],
   "source": [
    "num1=10\n",
    "num2=12.3\n",
    " #first method \n",
    "print(\"first number is %d and second number is %f\"%(num1,num2))\n",
    "#second method\n",
    "print(\"first number is {0} and second number is {1}\".format(num1,num2))\n",
    "print(\"first number is {1} and second number is {0}\".format(num1,num2))"
   ]
  },
  {
   "cell_type": "markdown",
   "metadata": {},
   "source": [
    "- user input"
   ]
  },
  {
   "cell_type": "code",
   "execution_count": 24,
   "metadata": {},
   "outputs": [
    {
     "name": "stdout",
     "output_type": "stream",
     "text": [
      "Enter your name:papapapapaapapap\n",
      "hello papapapapaapapap\n"
     ]
    }
   ],
   "source": [
    "val=input('Enter your name:')\n",
    "print('hello',val)"
   ]
  },
  {
   "cell_type": "markdown",
   "metadata": {},
   "source": [
    "## Conditional"
   ]
  },
  {
   "cell_type": "markdown",
   "metadata": {},
   "source": [
    "- if else"
   ]
  },
  {
   "cell_type": "code",
   "execution_count": 25,
   "metadata": {},
   "outputs": [
    {
     "name": "stdout",
     "output_type": "stream",
     "text": [
      "value smaller than 30\n"
     ]
    }
   ],
   "source": [
    "value = 30\n",
    "if value > 30:\n",
    "    print (\"value greater than 30\")\n",
    "else:\n",
    "    print (\"value smaller than 30\")\n",
    "    "
   ]
  },
  {
   "cell_type": "markdown",
   "metadata": {},
   "source": [
    "- else if"
   ]
  },
  {
   "cell_type": "code",
   "execution_count": 26,
   "metadata": {},
   "outputs": [
    {
     "name": "stdout",
     "output_type": "stream",
     "text": [
      "value equal to 30\n"
     ]
    }
   ],
   "source": [
    "value = 30\n",
    "if value > 30:\n",
    "    print (\"value greater than 30\")\n",
    "elif value < 30:\n",
    "    print (\"value smaller than 30\")\n",
    "else:\n",
    "    print (\"value equal to 30\")\n",
    "    "
   ]
  },
  {
   "cell_type": "code",
   "execution_count": 27,
   "metadata": {},
   "outputs": [
    {
     "name": "stdout",
     "output_type": "stream",
     "text": [
      "value smaller than 30\n"
     ]
    }
   ],
   "source": [
    "value = 30\n",
    "if value > 30 or value < 30:\n",
    "    print (\"value greater than and smaller than 30\")\n",
    "else:\n",
    "    print (\"value smaller than 30\")\n",
    "    "
   ]
  },
  {
   "cell_type": "code",
   "execution_count": 28,
   "metadata": {},
   "outputs": [
    {
     "name": "stdout",
     "output_type": "stream",
     "text": [
      "value greater than and smaller than 30\n"
     ]
    }
   ],
   "source": [
    "value = 101\n",
    "value1 = 100\n",
    "if value & value1:\n",
    "    print (\"value greater than and smaller than 30\")\n",
    "else:\n",
    "    print (\"value smaller than 30\")"
   ]
  },
  {
   "cell_type": "markdown",
   "metadata": {},
   "source": [
    "- single line conditionals"
   ]
  },
  {
   "cell_type": "code",
   "execution_count": 29,
   "metadata": {},
   "outputs": [
    {
     "name": "stdout",
     "output_type": "stream",
     "text": [
      "value smaller than 30\n",
      "value smaller than 30\n"
     ]
    }
   ],
   "source": [
    "value = 30\n",
    "if value > 30 :\n",
    "    print (\"value greater than  30\")\n",
    "else:\n",
    "    print (\"value smaller than 30\")\n",
    "print (\"value greater than and smaller than 30\") if value > 30 else print (\"value smaller than 30\")\n",
    "    "
   ]
  },
  {
   "cell_type": "code",
   "execution_count": 1,
   "metadata": {},
   "outputs": [
    {
     "name": "stdout",
     "output_type": "stream",
     "text": [
      "b is greater than a\n",
      "b is greater than a\n"
     ]
    }
   ],
   "source": [
    "a,b=10,12\n",
    "if a!=b:\n",
    "    if a>b:\n",
    "        print (\"a is greater b\")\n",
    "    else:\n",
    "        print(\"b is greater than a\")\n",
    "else: print(\"both are equal\")\n",
    "    \n",
    "print (\"a is greater b\")  if a>b else print(\"b is greater than a\") if a!=b else print(\"both are equal\")\n",
    "    \n",
    "        "
   ]
  },
  {
   "cell_type": "markdown",
   "metadata": {},
   "source": [
    "- bitwise Operator"
   ]
  },
  {
   "cell_type": "code",
   "execution_count": 8,
   "metadata": {},
   "outputs": [
    {
     "name": "stdout",
     "output_type": "stream",
     "text": [
      "5\n"
     ]
    }
   ],
   "source": [
    "c,d=7,5\n",
    "z=c and d\n",
    "print(z)\n",
    "# if z==2:\n",
    "#     print(\"and\")\n",
    "# else: \n",
    "#     print(\"or\")"
   ]
  },
  {
   "cell_type": "code",
   "execution_count": null,
   "metadata": {},
   "outputs": [],
   "source": []
  }
 ],
 "metadata": {
  "kernelspec": {
   "display_name": "Python 3",
   "language": "python",
   "name": "python3"
  },
  "language_info": {
   "codemirror_mode": {
    "name": "ipython",
    "version": 3
   },
   "file_extension": ".py",
   "mimetype": "text/x-python",
   "name": "python",
   "nbconvert_exporter": "python",
   "pygments_lexer": "ipython3",
   "version": "3.7.0"
  }
 },
 "nbformat": 4,
 "nbformat_minor": 2
}
