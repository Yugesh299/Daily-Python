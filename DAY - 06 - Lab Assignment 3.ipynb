{
 "cells": [
  {
   "cell_type": "markdown",
   "metadata": {},
   "source": [
    "# LA-11 Prime Numbers using list comprehension"
   ]
  },
  {
   "cell_type": "code",
   "execution_count": 29,
   "metadata": {},
   "outputs": [
    {
     "name": "stdout",
     "output_type": "stream",
     "text": [
      "[2, 3, 5, 7, 11, 13, 17, 19, 23, 29, 31, 37, 41, 43, 47, 53, 59, 61, 67, 71, 73, 79, 83, 89, 97]\n"
     ]
    }
   ],
   "source": [
    "prime=[x for x in range(2,100) if all(x % y != 0 for y in range(2, x))]\n",
    "print(prime)"
   ]
  },
  {
   "cell_type": "markdown",
   "metadata": {},
   "source": [
    "# LA-12 FACTORIAL CALCULATION"
   ]
  },
  {
   "cell_type": "code",
   "execution_count": null,
   "metadata": {},
   "outputs": [],
   "source": [
    "num=int(input(\"Enter a integer:\"))\n",
    "def fact(num):\n",
    "    if num < 0:\n",
    "        print(\"invalid\")\n",
    "    elif num == 1:\n",
    "        return num\n",
    "    elif num==0:\n",
    "        return 1\n",
    "    else:\n",
    "        return num*fact(num-1)\n",
    "ans=fact(num)\n",
    "print(\"Factorial is:\")\n",
    "print(ans)"
   ]
  },
  {
   "cell_type": "markdown",
   "metadata": {},
   "source": [
    "# LA-13 Number Format change"
   ]
  },
  {
   "cell_type": "code",
   "execution_count": 1,
   "metadata": {
    "scrolled": true
   },
   "outputs": [
    {
     "name": "stdout",
     "output_type": "stream",
     "text": [
      "Enter a decimal number: 85\n",
      "Binary :  [1, 0, 1, 0, 1, 0, 1]\n",
      "Octal :  [1, 2, 5]\n",
      "Hexadecimal :  [5, 5]\n"
     ]
    }
   ],
   "source": [
    "p=z=x=int(input(\"Enter a decimal number: \"))\n",
    "list1=[]\n",
    "while x!=0:\n",
    "    y=int(x%2)\n",
    "    list1.append(y)\n",
    "    x=x//2\n",
    "print(\"Binary : \",list1[::-1])\n",
    "\n",
    "list2=[]\n",
    "while z!=0:\n",
    "    y=int(z%8)\n",
    "    list2.append(y)\n",
    "    z=z//8\n",
    "print(\"Octal : \",list2[::-1])\n",
    "\n",
    "list3=[]\n",
    "while p!=0:\n",
    "    y=int(p%16)\n",
    "    list3.append(y)\n",
    "    p=p//16\n",
    "for i in range(len(list3)):\n",
    "    if list3[i]==10:\n",
    "        list3[i]='A'\n",
    "    if list3[i]==11:\n",
    "        list3[i]='B'\n",
    "    if list3[i]==12:\n",
    "        list3[i]='C'\n",
    "    if list3[i]==13:\n",
    "        list3[i]='D'\n",
    "    if list3[i]==14:\n",
    "        list3[i]='E'\n",
    "    if list3[i]==15:\n",
    "        list3[i]='F'\n",
    "\n",
    "print(\"Hexadecimal : \",list3[::-1])"
   ]
  },
  {
   "cell_type": "markdown",
   "metadata": {},
   "source": [
    "# LA-14 Number of occurences"
   ]
  },
  {
   "cell_type": "code",
   "execution_count": 2,
   "metadata": {
    "scrolled": true
   },
   "outputs": [
    {
     "name": "stdout",
     "output_type": "stream",
     "text": [
      "Occurrences of the word:\n",
      "30\n"
     ]
    }
   ],
   "source": [
    "file=open(\"LotsOfWords.txt\",\"r\")\n",
    "word=\"apple\"\n",
    "word1=\"apple.\"\n",
    "\n",
    "word4=\"apple?\"\n",
    "\n",
    "word7=\"apple-pie.\"\n",
    "k=0\n",
    "for line in file:\n",
    "    words=line.split()\n",
    "    for i in words:\n",
    "        if(i==word):\n",
    "            k=k+1\n",
    "    for i in words:\n",
    "        if(i==word1):\n",
    "            k=k+1\n",
    "\n",
    "    for i in words:\n",
    "        if(i==word4):\n",
    "            k=k+1\n",
    "\n",
    "    for i in words:\n",
    "        if(i==word7):\n",
    "            k=k+1   \n",
    "print(\"Occurrences of the word:\")\n",
    "print(k)"
   ]
  },
  {
   "cell_type": "markdown",
   "metadata": {},
   "source": [
    "# LA-15 Inverse of numbers in list"
   ]
  },
  {
   "cell_type": "code",
   "execution_count": null,
   "metadata": {},
   "outputs": [],
   "source": [
    "inverse = 0\n",
    "list1=list(input(\"Enter a list: \"))    \n",
    "for ele in range(0, len(list1)): \n",
    "    inverse = inverse + 1/int(list1[ele])\n",
    "print(\"Inverse sum of all elements in given list:\", inverse)"
   ]
  },
  {
   "cell_type": "markdown",
   "metadata": {},
   "source": [
    "# LA-16 Certificate"
   ]
  },
  {
   "cell_type": "code",
   "execution_count": null,
   "metadata": {},
   "outputs": [],
   "source": [
    "n=0\n",
    "file1=open(\"Cert1.txt\",\"a\")\n",
    "file3=open(\"Cert2.txt\",\"a\")\n",
    "file4=open(\"Cert3.txt\",\"a\")\n",
    "file4.write(\"Congratulations to the students of 10th for passing!\")\n",
    "file4.write(\"\\n\")\n",
    "file4.write(\"\\n\")\n",
    "while n<3:\n",
    "    name=input(\"Enter name: \")\n",
    "    roll=input(\"Enter roll no.: \")\n",
    "    class1=input(\"Enter class: \")\n",
    "    percent=input(\"Enter percentage: \")\n",
    "    file1.write(\"Name: \")\n",
    "    file1.write(name)\n",
    "    file1.write(\"\\n\")\n",
    "    file1.write(\"Roll no.: \")\n",
    "    file1.write(roll)\n",
    "    file1.write(\"\\n\")\n",
    "    file1.write(\"Class: \")\n",
    "    file1.write(class1)\n",
    "    file1.write(\"\\n\")\n",
    "    file1.write(\"Percentage: \")\n",
    "    file1.write(percent)\n",
    "    file1.write(\"\\n\")\n",
    "    file1.write(\"\\n\")\n",
    "    \n",
    "    file3.write(name)\n",
    "    file3.write(\"\\n\")\n",
    "    file3.write(roll)\n",
    "    file3.write(\"\\n\")\n",
    "    file3.write(class1)\n",
    "    file3.write(\"\\n\")\n",
    "    file3.write(percent)\n",
    "    file3.write(\"\\n\")\n",
    "    file3.write(\"\\n\")\n",
    "    \n",
    "    class1=int(class1)\n",
    "    percent=int(percent)\n",
    "    if class1==10 and percent>40 and percent<101:\n",
    "        class1=str(class1)\n",
    "        percent=str(percent)\n",
    "        file4.write(\"Name: \")\n",
    "        file4.write(name)\n",
    "        file4.write(\"\\n\")\n",
    "        file4.write(\"Roll no.: \")\n",
    "        file4.write(roll)\n",
    "        file4.write(\"\\n\")\n",
    "        file4.write(\"Class: \")\n",
    "        file4.write(class1)\n",
    "        file4.write(\"\\n\")\n",
    "        file4.write(\"Percentage: \")\n",
    "        file4.write(percent)\n",
    "        file4.write(\"\\n\")\n",
    "        file4.write(\"\\n\")\n",
    "    n+=1\n",
    "file1.close()\n",
    "file3.close()\n",
    "file4.close()\n",
    "print(\"Contents of 1st file:\\n\")\n",
    "file2=open(\"Cert1.txt\",'r')\n",
    "line1=file2.readline()\n",
    "while(line1!=\"\"):\n",
    "    print(line1)\n",
    "    line1=file2.readline()    \n",
    "file2.close()"
   ]
  },
  {
   "cell_type": "code",
   "execution_count": null,
   "metadata": {},
   "outputs": [],
   "source": []
  }
 ],
 "metadata": {
  "kernelspec": {
   "display_name": "Python 3",
   "language": "python",
   "name": "python3"
  },
  "language_info": {
   "codemirror_mode": {
    "name": "ipython",
    "version": 3
   },
   "file_extension": ".py",
   "mimetype": "text/x-python",
   "name": "python",
   "nbconvert_exporter": "python",
   "pygments_lexer": "ipython3",
   "version": "3.7.0"
  }
 },
 "nbformat": 4,
 "nbformat_minor": 2
}
