{
 "cells": [
  {
   "cell_type": "markdown",
   "metadata": {},
   "source": [
    "# Classification"
   ]
  },
  {
   "cell_type": "markdown",
   "metadata": {},
   "source": [
    "# Decision Tree"
   ]
  },
  {
   "cell_type": "code",
   "execution_count": 1,
   "metadata": {},
   "outputs": [],
   "source": [
    "import pandas as pd\n",
    "import matplotlib.pyplot as plt\n",
    "import numpy as np"
   ]
  },
  {
   "cell_type": "code",
   "execution_count": 2,
   "metadata": {},
   "outputs": [
    {
     "data": {
      "text/html": [
       "<div>\n",
       "<style scoped>\n",
       "    .dataframe tbody tr th:only-of-type {\n",
       "        vertical-align: middle;\n",
       "    }\n",
       "\n",
       "    .dataframe tbody tr th {\n",
       "        vertical-align: top;\n",
       "    }\n",
       "\n",
       "    .dataframe thead th {\n",
       "        text-align: right;\n",
       "    }\n",
       "</style>\n",
       "<table border=\"1\" class=\"dataframe\">\n",
       "  <thead>\n",
       "    <tr style=\"text-align: right;\">\n",
       "      <th></th>\n",
       "      <th>Plays Fetch</th>\n",
       "      <th>Is grumpy</th>\n",
       "      <th>Favorite food</th>\n",
       "      <th>Species</th>\n",
       "    </tr>\n",
       "  </thead>\n",
       "  <tbody>\n",
       "    <tr>\n",
       "      <th>0</th>\n",
       "      <td>Yes</td>\n",
       "      <td>No</td>\n",
       "      <td>Bacon</td>\n",
       "      <td>Dog</td>\n",
       "    </tr>\n",
       "    <tr>\n",
       "      <th>1</th>\n",
       "      <td>No</td>\n",
       "      <td>Yes</td>\n",
       "      <td>Dog Food</td>\n",
       "      <td>Dog</td>\n",
       "    </tr>\n",
       "    <tr>\n",
       "      <th>2</th>\n",
       "      <td>No</td>\n",
       "      <td>Yes</td>\n",
       "      <td>Cat food</td>\n",
       "      <td>Cat</td>\n",
       "    </tr>\n",
       "    <tr>\n",
       "      <th>3</th>\n",
       "      <td>No</td>\n",
       "      <td>Yes</td>\n",
       "      <td>Bacon</td>\n",
       "      <td>Cat</td>\n",
       "    </tr>\n",
       "    <tr>\n",
       "      <th>4</th>\n",
       "      <td>No</td>\n",
       "      <td>No</td>\n",
       "      <td>Cat food</td>\n",
       "      <td>Cat</td>\n",
       "    </tr>\n",
       "    <tr>\n",
       "      <th>5</th>\n",
       "      <td>No</td>\n",
       "      <td>Yes</td>\n",
       "      <td>Bacon</td>\n",
       "      <td>Cat</td>\n",
       "    </tr>\n",
       "    <tr>\n",
       "      <th>6</th>\n",
       "      <td>No</td>\n",
       "      <td>Yes</td>\n",
       "      <td>Cat food</td>\n",
       "      <td>Cat</td>\n",
       "    </tr>\n",
       "    <tr>\n",
       "      <th>7</th>\n",
       "      <td>No</td>\n",
       "      <td>No</td>\n",
       "      <td>Dog Food</td>\n",
       "      <td>Dog</td>\n",
       "    </tr>\n",
       "    <tr>\n",
       "      <th>8</th>\n",
       "      <td>No</td>\n",
       "      <td>Yes</td>\n",
       "      <td>Cat food</td>\n",
       "      <td>Cat</td>\n",
       "    </tr>\n",
       "    <tr>\n",
       "      <th>9</th>\n",
       "      <td>Yes</td>\n",
       "      <td>No</td>\n",
       "      <td>Dog Food</td>\n",
       "      <td>Dog</td>\n",
       "    </tr>\n",
       "    <tr>\n",
       "      <th>10</th>\n",
       "      <td>Yes</td>\n",
       "      <td>No</td>\n",
       "      <td>Bacon</td>\n",
       "      <td>Dog</td>\n",
       "    </tr>\n",
       "    <tr>\n",
       "      <th>11</th>\n",
       "      <td>No</td>\n",
       "      <td>No</td>\n",
       "      <td>Cat food</td>\n",
       "      <td>Cat</td>\n",
       "    </tr>\n",
       "    <tr>\n",
       "      <th>12</th>\n",
       "      <td>Yes</td>\n",
       "      <td>Yes</td>\n",
       "      <td>Cat food</td>\n",
       "      <td>Cat</td>\n",
       "    </tr>\n",
       "    <tr>\n",
       "      <th>13</th>\n",
       "      <td>Yes</td>\n",
       "      <td>Yes</td>\n",
       "      <td>Bacon</td>\n",
       "      <td>Dog</td>\n",
       "    </tr>\n",
       "  </tbody>\n",
       "</table>\n",
       "</div>"
      ],
      "text/plain": [
       "   Plays Fetch Is grumpy Favorite food Species\n",
       "0          Yes        No         Bacon     Dog\n",
       "1           No       Yes      Dog Food     Dog\n",
       "2           No       Yes      Cat food     Cat\n",
       "3           No       Yes         Bacon     Cat\n",
       "4           No        No      Cat food     Cat\n",
       "5           No       Yes         Bacon     Cat\n",
       "6           No       Yes      Cat food     Cat\n",
       "7           No        No      Dog Food     Dog\n",
       "8           No       Yes      Cat food     Cat\n",
       "9          Yes        No      Dog Food     Dog\n",
       "10         Yes        No         Bacon     Dog\n",
       "11          No        No      Cat food     Cat\n",
       "12         Yes       Yes      Cat food     Cat\n",
       "13         Yes       Yes         Bacon     Dog"
      ]
     },
     "execution_count": 2,
     "metadata": {},
     "output_type": "execute_result"
    }
   ],
   "source": [
    "#Download from tinyurl.com/decisiontree-data\n",
    "\n",
    "from io import StringIO\n",
    "dataset =StringIO('''Plays Fetch,Is grumpy,Favorite food,Species\n",
    "Yes,No,Bacon,Dog\n",
    "No,Yes,Dog Food,Dog\n",
    "No,Yes,Cat food,Cat\n",
    "No,Yes,Bacon,Cat\n",
    "No,No,Cat food,Cat\n",
    "No,Yes,Bacon,Cat\n",
    "No,Yes,Cat food,Cat\n",
    "No,No,Dog Food,Dog\n",
    "No,Yes,Cat food,Cat\n",
    "Yes,No,Dog Food,Dog\n",
    "Yes,No,Bacon,Dog\n",
    "No,No,Cat food,Cat\n",
    "Yes,Yes,Cat food,Cat\n",
    "Yes,Yes,Bacon,Dog\n",
    "''')\n",
    "df = pd.read_csv(dataset)\n",
    "df"
   ]
  },
  {
   "cell_type": "code",
   "execution_count": 3,
   "metadata": {},
   "outputs": [
    {
     "data": {
      "text/html": [
       "<div>\n",
       "<style scoped>\n",
       "    .dataframe tbody tr th:only-of-type {\n",
       "        vertical-align: middle;\n",
       "    }\n",
       "\n",
       "    .dataframe tbody tr th {\n",
       "        vertical-align: top;\n",
       "    }\n",
       "\n",
       "    .dataframe thead th {\n",
       "        text-align: right;\n",
       "    }\n",
       "</style>\n",
       "<table border=\"1\" class=\"dataframe\">\n",
       "  <thead>\n",
       "    <tr style=\"text-align: right;\">\n",
       "      <th></th>\n",
       "      <th>Plays Fetch</th>\n",
       "      <th>Is grumpy</th>\n",
       "      <th>Favorite food</th>\n",
       "      <th>Species</th>\n",
       "      <th>B Plays Fetch</th>\n",
       "      <th>B Is grumpy</th>\n",
       "      <th>B Favorite food</th>\n",
       "    </tr>\n",
       "  </thead>\n",
       "  <tbody>\n",
       "    <tr>\n",
       "      <th>0</th>\n",
       "      <td>Yes</td>\n",
       "      <td>No</td>\n",
       "      <td>Bacon</td>\n",
       "      <td>Dog</td>\n",
       "      <td>True</td>\n",
       "      <td>False</td>\n",
       "      <td>0</td>\n",
       "    </tr>\n",
       "    <tr>\n",
       "      <th>1</th>\n",
       "      <td>No</td>\n",
       "      <td>Yes</td>\n",
       "      <td>Dog Food</td>\n",
       "      <td>Dog</td>\n",
       "      <td>False</td>\n",
       "      <td>True</td>\n",
       "      <td>1</td>\n",
       "    </tr>\n",
       "    <tr>\n",
       "      <th>2</th>\n",
       "      <td>No</td>\n",
       "      <td>Yes</td>\n",
       "      <td>Cat food</td>\n",
       "      <td>Cat</td>\n",
       "      <td>False</td>\n",
       "      <td>True</td>\n",
       "      <td>2</td>\n",
       "    </tr>\n",
       "    <tr>\n",
       "      <th>3</th>\n",
       "      <td>No</td>\n",
       "      <td>Yes</td>\n",
       "      <td>Bacon</td>\n",
       "      <td>Cat</td>\n",
       "      <td>False</td>\n",
       "      <td>True</td>\n",
       "      <td>0</td>\n",
       "    </tr>\n",
       "    <tr>\n",
       "      <th>4</th>\n",
       "      <td>No</td>\n",
       "      <td>No</td>\n",
       "      <td>Cat food</td>\n",
       "      <td>Cat</td>\n",
       "      <td>False</td>\n",
       "      <td>False</td>\n",
       "      <td>2</td>\n",
       "    </tr>\n",
       "    <tr>\n",
       "      <th>5</th>\n",
       "      <td>No</td>\n",
       "      <td>Yes</td>\n",
       "      <td>Bacon</td>\n",
       "      <td>Cat</td>\n",
       "      <td>False</td>\n",
       "      <td>True</td>\n",
       "      <td>0</td>\n",
       "    </tr>\n",
       "    <tr>\n",
       "      <th>6</th>\n",
       "      <td>No</td>\n",
       "      <td>Yes</td>\n",
       "      <td>Cat food</td>\n",
       "      <td>Cat</td>\n",
       "      <td>False</td>\n",
       "      <td>True</td>\n",
       "      <td>2</td>\n",
       "    </tr>\n",
       "    <tr>\n",
       "      <th>7</th>\n",
       "      <td>No</td>\n",
       "      <td>No</td>\n",
       "      <td>Dog Food</td>\n",
       "      <td>Dog</td>\n",
       "      <td>False</td>\n",
       "      <td>False</td>\n",
       "      <td>1</td>\n",
       "    </tr>\n",
       "    <tr>\n",
       "      <th>8</th>\n",
       "      <td>No</td>\n",
       "      <td>Yes</td>\n",
       "      <td>Cat food</td>\n",
       "      <td>Cat</td>\n",
       "      <td>False</td>\n",
       "      <td>True</td>\n",
       "      <td>2</td>\n",
       "    </tr>\n",
       "    <tr>\n",
       "      <th>9</th>\n",
       "      <td>Yes</td>\n",
       "      <td>No</td>\n",
       "      <td>Dog Food</td>\n",
       "      <td>Dog</td>\n",
       "      <td>True</td>\n",
       "      <td>False</td>\n",
       "      <td>1</td>\n",
       "    </tr>\n",
       "    <tr>\n",
       "      <th>10</th>\n",
       "      <td>Yes</td>\n",
       "      <td>No</td>\n",
       "      <td>Bacon</td>\n",
       "      <td>Dog</td>\n",
       "      <td>True</td>\n",
       "      <td>False</td>\n",
       "      <td>0</td>\n",
       "    </tr>\n",
       "    <tr>\n",
       "      <th>11</th>\n",
       "      <td>No</td>\n",
       "      <td>No</td>\n",
       "      <td>Cat food</td>\n",
       "      <td>Cat</td>\n",
       "      <td>False</td>\n",
       "      <td>False</td>\n",
       "      <td>2</td>\n",
       "    </tr>\n",
       "    <tr>\n",
       "      <th>12</th>\n",
       "      <td>Yes</td>\n",
       "      <td>Yes</td>\n",
       "      <td>Cat food</td>\n",
       "      <td>Cat</td>\n",
       "      <td>True</td>\n",
       "      <td>True</td>\n",
       "      <td>2</td>\n",
       "    </tr>\n",
       "    <tr>\n",
       "      <th>13</th>\n",
       "      <td>Yes</td>\n",
       "      <td>Yes</td>\n",
       "      <td>Bacon</td>\n",
       "      <td>Dog</td>\n",
       "      <td>True</td>\n",
       "      <td>True</td>\n",
       "      <td>0</td>\n",
       "    </tr>\n",
       "  </tbody>\n",
       "</table>\n",
       "</div>"
      ],
      "text/plain": [
       "   Plays Fetch Is grumpy Favorite food Species  B Plays Fetch  B Is grumpy  \\\n",
       "0          Yes        No         Bacon     Dog           True        False   \n",
       "1           No       Yes      Dog Food     Dog          False         True   \n",
       "2           No       Yes      Cat food     Cat          False         True   \n",
       "3           No       Yes         Bacon     Cat          False         True   \n",
       "4           No        No      Cat food     Cat          False        False   \n",
       "5           No       Yes         Bacon     Cat          False         True   \n",
       "6           No       Yes      Cat food     Cat          False         True   \n",
       "7           No        No      Dog Food     Dog          False        False   \n",
       "8           No       Yes      Cat food     Cat          False         True   \n",
       "9          Yes        No      Dog Food     Dog           True        False   \n",
       "10         Yes        No         Bacon     Dog           True        False   \n",
       "11          No        No      Cat food     Cat          False        False   \n",
       "12         Yes       Yes      Cat food     Cat           True         True   \n",
       "13         Yes       Yes         Bacon     Dog           True         True   \n",
       "\n",
       "    B Favorite food  \n",
       "0                 0  \n",
       "1                 1  \n",
       "2                 2  \n",
       "3                 0  \n",
       "4                 2  \n",
       "5                 0  \n",
       "6                 2  \n",
       "7                 1  \n",
       "8                 2  \n",
       "9                 1  \n",
       "10                0  \n",
       "11                2  \n",
       "12                2  \n",
       "13                0  "
      ]
     },
     "execution_count": 3,
     "metadata": {},
     "output_type": "execute_result"
    }
   ],
   "source": [
    "df['B Plays Fetch'] = df['Plays Fetch'].apply(lambda x: x=='Yes')\n",
    "df['B Is grumpy'] = df['Is grumpy'].apply(lambda x: x=='Yes')\n",
    "df['B Favorite food'] = [(0 if food == 'Bacon' else 1 if food == 'Dog Food' else 2) \n",
    "                         for food in df['Favorite food']]\n",
    "df"
   ]
  },
  {
   "cell_type": "code",
   "execution_count": 4,
   "metadata": {},
   "outputs": [],
   "source": [
    "from sklearn.tree import DecisionTreeClassifier\n",
    "decisiontree = DecisionTreeClassifier(criterion = 'entropy', max_depth =4)\n",
    "obtained_tree= decisiontree.fit(df[['B Plays Fetch' , 'B Is grumpy', 'B Favorite food']],df['Species'])\n"
   ]
  },
  {
   "cell_type": "code",
   "execution_count": 5,
   "metadata": {},
   "outputs": [
    {
     "name": "stdout",
     "output_type": "stream",
     "text": [
      "Extracted Classes ['Cat' 'Dog']\n"
     ]
    }
   ],
   "source": [
    "print(\"Extracted Classes\" , decisiontree.classes_)"
   ]
  },
  {
   "cell_type": "code",
   "execution_count": 6,
   "metadata": {},
   "outputs": [
    {
     "name": "stdout",
     "output_type": "stream",
     "text": [
      "['Dog']\n",
      "['Cat' 'Dog']\n"
     ]
    }
   ],
   "source": [
    "print(obtained_tree.predict([[True,False,0]]))\n",
    "print(obtained_tree.predict([[False,True,2],[True,False,0]]))"
   ]
  },
  {
   "cell_type": "code",
   "execution_count": 7,
   "metadata": {},
   "outputs": [
    {
     "name": "stdout",
     "output_type": "stream",
     "text": [
      "['Dog', 'Dog', 'Cat', 'Cat', 'Cat', 'Cat', 'Cat', 'Dog', 'Cat', 'Dog', 'Dog', 'Cat', 'Cat', 'Dog']\n",
      "['Dog', 'Dog', 'Cat', 'Cat', 'Cat', 'Cat', 'Cat', 'Dog', 'Cat', 'Dog', 'Dog', 'Cat', 'Cat', 'Dog']\n"
     ]
    }
   ],
   "source": [
    "#predicted output\n",
    "predictions = obtained_tree.predict(df[['B Plays Fetch', 'B Is grumpy','B Favorite food']])\n",
    "print(predictions.tolist())\n",
    "#actual output\n",
    "print(df['Species'].tolist())"
   ]
  },
  {
   "cell_type": "code",
   "execution_count": 10,
   "metadata": {},
   "outputs": [
    {
     "name": "stdout",
     "output_type": "stream",
     "text": [
      "[[8 0]\n",
      " [0 6]]\n"
     ]
    }
   ],
   "source": [
    "from sklearn.metrics import classification_report,confusion_matrix\n",
    "print(confusion_matrix(df['Species'],predictions))"
   ]
  },
  {
   "cell_type": "code",
   "execution_count": 11,
   "metadata": {},
   "outputs": [
    {
     "data": {
      "text/plain": [
       "<matplotlib.axes._subplots.AxesSubplot at 0x2ba91b4cf98>"
      ]
     },
     "execution_count": 11,
     "metadata": {},
     "output_type": "execute_result"
    },
    {
     "data": {
      "image/png": "[encoded data removed]",
      "text/plain": [
       "<Figure size 432x288 with 2 Axes>"
      ]
     },
     "metadata": {
      "needs_background": "light"
     },
     "output_type": "display_data"
    }
   ],
   "source": [
    "#pip install seaborn\n",
    "import seaborn\n",
    "seaborn.heatmap(confusion_matrix(df['Species'],predictions),annot=True,cmap='Greens',\n",
    "               xticklabels=decisiontree.classes_,\n",
    "               yticklabels=decisiontree.classes_)"
   ]
  },
  {
   "cell_type": "code",
   "execution_count": 12,
   "metadata": {},
   "outputs": [
    {
     "name": "stdout",
     "output_type": "stream",
     "text": [
      "              precision    recall  f1-score   support\n",
      "\n",
      "         Cat       1.00      1.00      1.00         8\n",
      "         Dog       1.00      1.00      1.00         6\n",
      "\n",
      "    accuracy                           1.00        14\n",
      "   macro avg       1.00      1.00      1.00        14\n",
      "weighted avg       1.00      1.00      1.00        14\n",
      "\n"
     ]
    }
   ],
   "source": [
    "print(classification_report(df['Species'],predictions))"
   ]
  },
  {
   "cell_type": "code",
   "execution_count": 13,
   "metadata": {},
   "outputs": [
    {
     "data": {
      "image/png": "[encoded data removed]",
      "text/plain": [
       "<IPython.core.display.Image object>"
      ]
     },
     "execution_count": 13,
     "metadata": {},
     "output_type": "execute_result"
    }
   ],
   "source": [
    "#graphviz\n",
    "# pip install pydotplus\n",
    "\n",
    "import os\n",
    "os.environ['PATH']+=os.pathsep + 'C:\\\\Program Files (x86)\\\\Graphviz2.38\\\\bin' \n",
    "\n",
    "from sklearn.tree import export_graphviz\n",
    "import pydotplus\n",
    "from IPython.display import Image\n",
    " \n",
    "DecisionTreeImg = StringIO()\n",
    "export_graphviz(obtained_tree,out_file=DecisionTreeImg,\n",
    "               filled=True,rounded=True,\n",
    "               feature_names=[\"Plays Fetch\",\"Is grumpy\",\"Favorite food\"],\n",
    "               special_characters= True)\n",
    "\n",
    "graph= pydotplus.graph_from_dot_data(DecisionTreeImg.getvalue())\n",
    "Image(graph.create_png())"
   ]
  },
  {
   "cell_type": "code",
   "execution_count": null,
   "metadata": {},
   "outputs": [],
   "source": []
  }
 ],
 "metadata": {
  "kernelspec": {
   "display_name": "Python 3",
   "language": "python",
   "name": "python3"
  },
  "language_info": {
   "codemirror_mode": {
    "name": "ipython",
    "version": 3
   },
   "file_extension": ".py",
   "mimetype": "text/x-python",
   "name": "python",
   "nbconvert_exporter": "python",
   "pygments_lexer": "ipython3",
   "version": "3.7.3"
  }
 },
 "nbformat": 4,
 "nbformat_minor": 2
}
