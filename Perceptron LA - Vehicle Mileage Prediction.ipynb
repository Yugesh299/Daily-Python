{
 "cells": [
  {
   "cell_type": "markdown",
   "metadata": {},
   "source": [
    "# Perceptron"
   ]
  },
  {
   "cell_type": "markdown",
   "metadata": {},
   "source": [
    "## Lab Assignment - Vehicle Mileage Prediction\n",
    "\n",
    "Classify vehicle mileage as high or low based on two features, weight and horsepower using Perceptron model.\n",
    "\n",
    "Perform classification with the following functions.\n",
    "\n",
    "#### 1. Plot the scatter of weight vs horsepower. The vehicles with high mileage should be in blue color and low should be in red color. Give appropriate legends. \n",
    "#### 2. Split the data set into training and testing data set. Use the train_test_split function to get a 80:20 split, using random_state\n",
    "##### 3. Plot a bar chart of number of 1's and 0's in the training dataset. \n",
    "#### 4. Use the perceptron model to classify the data, and get predictions for test dataset.\n",
    "#### 5. Obtain the confusion matrix of the output.\n",
    "#### 6. Plot the separating hyperplane on the training dataset.\n",
    "#### 7. Get the classification result for the values of weight 2, 3.3, 1.21, 5.32, 1.23, 4.8 and horsepower 20, 29, 13, 100, 40, 49 respectively. \n",
    "\n",
    "### Split the dataset with 80:20 ratio, but with random_state 299. Get the output of steps 3, 4, 5, 6. What is the difference from the previous output?\n",
    "\n",
    "### Perform KFold cross validation for k=3 to 6 for this dataset."
   ]
  },
  {
   "cell_type": "code",
   "execution_count": 1,
   "metadata": {},
   "outputs": [
    {
     "data": {
      "text/html": [
       "<div>\n",
       "<style scoped>\n",
       "    .dataframe tbody tr th:only-of-type {\n",
       "        vertical-align: middle;\n",
       "    }\n",
       "\n",
       "    .dataframe tbody tr th {\n",
       "        vertical-align: top;\n",
       "    }\n",
       "\n",
       "    .dataframe thead th {\n",
       "        text-align: right;\n",
       "    }\n",
       "</style>\n",
       "<table border=\"1\" class=\"dataframe\">\n",
       "  <thead>\n",
       "    <tr style=\"text-align: right;\">\n",
       "      <th></th>\n",
       "      <th>weight</th>\n",
       "      <th>horsepower</th>\n",
       "      <th>mileage</th>\n",
       "    </tr>\n",
       "  </thead>\n",
       "  <tbody>\n",
       "    <tr>\n",
       "      <th>0</th>\n",
       "      <td>1.4000</td>\n",
       "      <td>43</td>\n",
       "      <td>1</td>\n",
       "    </tr>\n",
       "    <tr>\n",
       "      <th>1</th>\n",
       "      <td>1.5000</td>\n",
       "      <td>8</td>\n",
       "      <td>0</td>\n",
       "    </tr>\n",
       "    <tr>\n",
       "      <th>2</th>\n",
       "      <td>2.7100</td>\n",
       "      <td>44</td>\n",
       "      <td>1</td>\n",
       "    </tr>\n",
       "    <tr>\n",
       "      <th>3</th>\n",
       "      <td>3.5500</td>\n",
       "      <td>23</td>\n",
       "      <td>0</td>\n",
       "    </tr>\n",
       "    <tr>\n",
       "      <th>4</th>\n",
       "      <td>2.5000</td>\n",
       "      <td>15</td>\n",
       "      <td>0</td>\n",
       "    </tr>\n",
       "    <tr>\n",
       "      <th>5</th>\n",
       "      <td>2.9000</td>\n",
       "      <td>19</td>\n",
       "      <td>0</td>\n",
       "    </tr>\n",
       "    <tr>\n",
       "      <th>6</th>\n",
       "      <td>3.8500</td>\n",
       "      <td>112</td>\n",
       "      <td>1</td>\n",
       "    </tr>\n",
       "    <tr>\n",
       "      <th>7</th>\n",
       "      <td>3.9600</td>\n",
       "      <td>87</td>\n",
       "      <td>1</td>\n",
       "    </tr>\n",
       "    <tr>\n",
       "      <th>8</th>\n",
       "      <td>4.6200</td>\n",
       "      <td>108</td>\n",
       "      <td>1</td>\n",
       "    </tr>\n",
       "    <tr>\n",
       "      <th>9</th>\n",
       "      <td>4.7000</td>\n",
       "      <td>21</td>\n",
       "      <td>0</td>\n",
       "    </tr>\n",
       "    <tr>\n",
       "      <th>10</th>\n",
       "      <td>2.6700</td>\n",
       "      <td>34</td>\n",
       "      <td>1</td>\n",
       "    </tr>\n",
       "    <tr>\n",
       "      <th>11</th>\n",
       "      <td>2.5000</td>\n",
       "      <td>20</td>\n",
       "      <td>0</td>\n",
       "    </tr>\n",
       "    <tr>\n",
       "      <th>12</th>\n",
       "      <td>1.9320</td>\n",
       "      <td>12</td>\n",
       "      <td>0</td>\n",
       "    </tr>\n",
       "    <tr>\n",
       "      <th>13</th>\n",
       "      <td>4.8000</td>\n",
       "      <td>48</td>\n",
       "      <td>1</td>\n",
       "    </tr>\n",
       "    <tr>\n",
       "      <th>14</th>\n",
       "      <td>1.3210</td>\n",
       "      <td>32</td>\n",
       "      <td>1</td>\n",
       "    </tr>\n",
       "    <tr>\n",
       "      <th>15</th>\n",
       "      <td>1.9013</td>\n",
       "      <td>52</td>\n",
       "      <td>1</td>\n",
       "    </tr>\n",
       "    <tr>\n",
       "      <th>16</th>\n",
       "      <td>4.1300</td>\n",
       "      <td>19</td>\n",
       "      <td>0</td>\n",
       "    </tr>\n",
       "    <tr>\n",
       "      <th>17</th>\n",
       "      <td>2.8000</td>\n",
       "      <td>29</td>\n",
       "      <td>0</td>\n",
       "    </tr>\n",
       "  </tbody>\n",
       "</table>\n",
       "</div>"
      ],
      "text/plain": [
       "    weight  horsepower  mileage\n",
       "0   1.4000          43        1\n",
       "1   1.5000           8        0\n",
       "2   2.7100          44        1\n",
       "3   3.5500          23        0\n",
       "4   2.5000          15        0\n",
       "5   2.9000          19        0\n",
       "6   3.8500         112        1\n",
       "7   3.9600          87        1\n",
       "8   4.6200         108        1\n",
       "9   4.7000          21        0\n",
       "10  2.6700          34        1\n",
       "11  2.5000          20        0\n",
       "12  1.9320          12        0\n",
       "13  4.8000          48        1\n",
       "14  1.3210          32        1\n",
       "15  1.9013          52        1\n",
       "16  4.1300          19        0\n",
       "17  2.8000          29        0"
      ]
     },
     "execution_count": 1,
     "metadata": {},
     "output_type": "execute_result"
    }
   ],
   "source": [
    "import pandas as pd\n",
    "import matplotlib.pyplot as plt\n",
    "from io import StringIO\n",
    "dataset =StringIO('''       \n",
    "weight,horsepower,mileage\n",
    "1.4,43,1\n",
    "1.5,8,0\n",
    "2.71,44,1\n",
    "3.55,23,0\n",
    "2.5,15,0\n",
    "2.9,19,0\n",
    "3.85,112,1\n",
    "3.96,87,1\n",
    "4.62,108,1\n",
    "4.7,21,0\n",
    "2.67,34,1\n",
    "2.5,20,0\n",
    "1.932,12, 0\n",
    "4.8,48,1\n",
    "1.321,32,1\n",
    "1.9013,52,1\n",
    "4.13,19,0\n",
    "2.8,29,0\n",
    "''')\n",
    "df = pd.read_csv(dataset)\n",
    "df"
   ]
  },
  {
   "cell_type": "code",
   "execution_count": 7,
   "metadata": {},
   "outputs": [
    {
     "name": "stdout",
     "output_type": "stream",
     "text": [
      "    weight  horsepower  mileage\n",
      "0   1.4000          43        1\n",
      "2   2.7100          44        1\n",
      "6   3.8500         112        1\n",
      "7   3.9600          87        1\n",
      "8   4.6200         108        1\n",
      "10  2.6700          34        1\n",
      "13  4.8000          48        1\n",
      "14  1.3210          32        1\n",
      "15  1.9013          52        1\n",
      "    weight  horsepower  mileage\n",
      "1    1.500           8        0\n",
      "3    3.550          23        0\n",
      "4    2.500          15        0\n",
      "5    2.900          19        0\n",
      "9    4.700          21        0\n",
      "11   2.500          20        0\n",
      "12   1.932          12        0\n",
      "16   4.130          19        0\n",
      "17   2.800          29        0\n"
     ]
    },
    {
     "data": {
      "image/png": "[encoded data removed]",
      "text/plain": [
       "<Figure size 432x288 with 1 Axes>"
      ]
     },
     "metadata": {
      "needs_background": "light"
     },
     "output_type": "display_data"
    }
   ],
   "source": [
    "#Q1\n",
    "import numpy as np\n",
    "import matplotlib.pyplot as plt \n",
    "import pandas as pd\n",
    "\n",
    "weights     = df[df[\"mileage\"]==1]\n",
    "horsepowers = df[df[\"mileage\"]==0]\n",
    "print(weights)\n",
    "print(horsepowers)\n",
    "\n",
    "plt.scatter(weights[\"weight\"],\n",
    "        weights['horsepower'],\n",
    "           label='weight')\n",
    "plt.scatter(horsepowers[\"weight\"],\n",
    "            horsepowers['horsepower'],\n",
    "           color='r',label='horsepowers')\n",
    "#plt.figure(figsize=[12,6])\n",
    "plt.xlabel(\"Weight\")\n",
    "plt.ylabel(\"Hosepower\")\n",
    "plt.legend(loc=2)\n",
    "plt.axis()\n",
    "plt.grid(True)"
   ]
  },
  {
   "cell_type": "code",
   "execution_count": 8,
   "metadata": {},
   "outputs": [
    {
     "data": {
      "image/png": "[encoded data removed]",
      "text/plain": [
       "<Figure size 720x360 with 1 Axes>"
      ]
     },
     "metadata": {
      "needs_background": "light"
     },
     "output_type": "display_data"
    }
   ],
   "source": [
    "#Q2\n",
    "from sklearn.model_selection import train_test_split\n",
    "\n",
    "x_train,x_test,y_train,y_test = train_test_split(df[['weight','horsepower']],df['mileage'],test_size=0.2,random_state=3)\n",
    "#other arguments - random_state=none,shuffle=True\n",
    "# print(PSize_train)\n",
    "# print(PSize_test)\n",
    "# print(PPrice_train)\n",
    "# print(PPrice_test)\n",
    "\n",
    "plt.figure(figsize=[10,5])\n",
    "plt.title(\"Weight vshorsepower \")\n",
    "plt.xlabel(\"Weight\")\n",
    "plt.ylabel(\"Horsepower\")\n",
    "plt.xticks(df['mileage'],['0','1'])\n",
    "plt.bar(y_train,color='g',label='green',height=1,align='center')\n",
    "plt.axis()\n",
    "plt.grid(True)\n",
    "plt.tight_layout()\n",
    "\n",
    "# y_train.value_counts().plot(kind='bar',color='g')\n",
    "# plt.grid(True)"
   ]
  },
  {
   "cell_type": "markdown",
   "metadata": {},
   "source": [
    "# 4. Use the perceptron model to classify the data, and get predictions for test dataset."
   ]
  },
  {
   "cell_type": "code",
   "execution_count": 9,
   "metadata": {},
   "outputs": [
    {
     "name": "stdout",
     "output_type": "stream",
     "text": [
      "Obtained prediction [0 0 0 1]\n",
      "Actual prediction [0, 1, 0, 1]\n"
     ]
    }
   ],
   "source": [
    "from sklearn.linear_model import Perceptron\n",
    "new_c = Perceptron(max_iter=1000)\n",
    "model = new_c.fit(x_train,y_train)\n",
    "\n",
    "predictions = model.predict(x_test)\n",
    "print(\"Obtained prediction\",predictions)\n",
    "print(\"Actual prediction\",y_test.tolist())"
   ]
  },
  {
   "cell_type": "code",
   "execution_count": 4,
   "metadata": {},
   "outputs": [
    {
     "data": {
      "text/plain": [
       "(18, 3)"
      ]
     },
     "execution_count": 4,
     "metadata": {},
     "output_type": "execute_result"
    }
   ],
   "source": [
    "df.shape"
   ]
  },
  {
   "cell_type": "markdown",
   "metadata": {},
   "source": [
    "# 5. Obtain the confusion matrix of the output."
   ]
  },
  {
   "cell_type": "code",
   "execution_count": 5,
   "metadata": {},
   "outputs": [
    {
     "data": {
      "text/plain": [
       "array([[2, 0],\n",
       "       [1, 1]], dtype=int64)"
      ]
     },
     "execution_count": 5,
     "metadata": {},
     "output_type": "execute_result"
    }
   ],
   "source": [
    "from sklearn import metrics\n",
    "metrics.confusion_matrix(y_test,predictions)"
   ]
  },
  {
   "cell_type": "markdown",
   "metadata": {},
   "source": [
    "#  6 Plot the separating hyperplane on the training dataset."
   ]
  },
  {
   "cell_type": "code",
   "execution_count": 10,
   "metadata": {},
   "outputs": [
    {
     "data": {
      "image/png": "[encoded data removed]",
      "text/plain": [
       "<Figure size 432x288 with 1 Axes>"
      ]
     },
     "metadata": {
      "needs_background": "light"
     },
     "output_type": "display_data"
    }
   ],
   "source": [
    "import numpy as np\n",
    "\n",
    "x_min,x_max = 0,1\n",
    "y_min,y_max = 0,1\n",
    "\n",
    "xx,yy = np.meshgrid(np.arange(x_min,x_max,0.001),\n",
    "                    np.arange(y_min,y_max,0.001))\n",
    "\n",
    "# print(xx)\n",
    "# print(yy)\n",
    "\n",
    "xx_lin = xx.ravel()\n",
    "# print(xx_lin)\n",
    "yy_lin = yy.ravel()\n",
    "# print(yy_lin)\n",
    "\n",
    "pred_input= np.c_[xx_lin,yy_lin]\n",
    "# print(pred_input)\n",
    "\n",
    "Z=model.predict(pred_input)\n",
    "# print(Z)\n",
    "\n",
    "Z=Z.reshape(xx.shape)\n",
    "# print(Z)\n",
    "#contourf fills the area ,it requires  2d array\n",
    "plt.contourf(xx,yy,Z,cmap=plt.cm.Pastel2)\n",
    "\n",
    "plt.scatter(weights['weight'],\n",
    "        weights['horsepower'],\n",
    "           label='weight')\n",
    "plt.scatter(horsepowers['weight'],\n",
    "            horsepowers['horsepower'],\n",
    "           color='r',label='horsepowers')\n",
    "#plt.figure(figsize=[12,6])\n",
    "plt.xlabel('Weight')\n",
    "plt.ylabel('Hosepower')\n",
    "plt.legend(loc=2)\n",
    "plt.axis()\n",
    "plt.grid(True)"
   ]
  },
  {
   "cell_type": "markdown",
   "metadata": {},
   "source": [
    "# 7. Get the classification result for the values of weight 2, 3.3, 1.21, 5.32, 1.23, 4.8 and horsepower 20, 29, 13, 100, 40, 49 respectively. \n"
   ]
  },
  {
   "cell_type": "code",
   "execution_count": 11,
   "metadata": {},
   "outputs": [
    {
     "name": "stdout",
     "output_type": "stream",
     "text": [
      "[0]\n",
      "[0]\n",
      "[0 1 1 0]\n"
     ]
    }
   ],
   "source": [
    "print(model.predict([[2,20]]))\n",
    "print(model.predict([[3.3,29]]))\n",
    "print(model.predict([[1.21,13],[5.32,100],[1.23,40],[4.8,49]]))"
   ]
  },
  {
   "cell_type": "code",
   "execution_count": null,
   "metadata": {},
   "outputs": [],
   "source": []
  }
 ],
 "metadata": {
  "kernelspec": {
   "display_name": "Python 3",
   "language": "python",
   "name": "python3"
  },
  "language_info": {
   "codemirror_mode": {
    "name": "ipython",
    "version": 3
   },
   "file_extension": ".py",
   "mimetype": "text/x-python",
   "name": "python",
   "nbconvert_exporter": "python",
   "pygments_lexer": "ipython3",
   "version": "3.7.0"
  }
 },
 "nbformat": 4,
 "nbformat_minor": 2
}
