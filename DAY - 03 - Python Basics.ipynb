{
 "cells": [
  {
   "cell_type": "markdown",
   "metadata": {},
   "source": [
    "# DICTIONARIES"
   ]
  },
  {
   "cell_type": "markdown",
   "metadata": {},
   "source": [
    "- Creation, accessing the elements"
   ]
  },
  {
   "cell_type": "code",
   "execution_count": 1,
   "metadata": {},
   "outputs": [
    {
     "name": "stdout",
     "output_type": "stream",
     "text": [
      "<class 'dict'>\n",
      "{'jan': 31, 'feb': 28, 'march': 31}\n"
     ]
    }
   ],
   "source": [
    "#dict_name={key:value,key:value}\n",
    "dict_1={\"jan\":31,\"feb\":28,\"march\":31}\n",
    "print(type(dict_1))\n",
    "print(dict_1)"
   ]
  },
  {
   "cell_type": "code",
   "execution_count": 2,
   "metadata": {},
   "outputs": [
    {
     "name": "stdout",
     "output_type": "stream",
     "text": [
      "31\n",
      "28\n"
     ]
    }
   ],
   "source": [
    "print(dict_1[\"jan\"])\n",
    "print(dict_1[\"feb\"])"
   ]
  },
  {
   "cell_type": "markdown",
   "metadata": {},
   "source": [
    "- updating a dictionary"
   ]
  },
  {
   "cell_type": "code",
   "execution_count": 3,
   "metadata": {},
   "outputs": [
    {
     "name": "stdout",
     "output_type": "stream",
     "text": [
      "{'jan': 31, 'feb': 28, 'march': 31, 'april': 30}\n",
      "{'jan': 31, 'feb': 29, 'march': 31, 'april': 30}\n"
     ]
    }
   ],
   "source": [
    "dict_1={\"jan\":31,\"feb\":28,\"march\":31}\n",
    "dict_1[\"april\"]=30\n",
    "print(dict_1)\n",
    "dict_1[\"feb\"]=29\n",
    "print(dict_1)"
   ]
  },
  {
   "cell_type": "markdown",
   "metadata": {},
   "source": [
    "- Deleting a dictionary"
   ]
  },
  {
   "cell_type": "code",
   "execution_count": 4,
   "metadata": {},
   "outputs": [
    {
     "name": "stdout",
     "output_type": "stream",
     "text": [
      "{'jan': 31, 'feb': 28}\n"
     ]
    }
   ],
   "source": [
    "dict_1={\"jan\":31,\"feb\":28,\"march\":31}\n",
    "del dict_1[\"march\"]\n",
    "print(dict_1)"
   ]
  },
  {
   "cell_type": "markdown",
   "metadata": {},
   "source": [
    "- Keys are unique and immutable"
   ]
  },
  {
   "cell_type": "code",
   "execution_count": 5,
   "metadata": {},
   "outputs": [
    {
     "name": "stdout",
     "output_type": "stream",
     "text": [
      "{'jan': 31, 'feb': 28, 'march': 31, 'april': [28, 29, 30, 31]}\n"
     ]
    },
    {
     "ename": "TypeError",
     "evalue": "unhashable type: 'list'",
     "output_type": "error",
     "traceback": [
      "\u001b[1;31m---------------------------------------------------------------------------\u001b[0m",
      "\u001b[1;31mTypeError\u001b[0m                                 Traceback (most recent call last)",
      "\u001b[1;32m<ipython-input-5-fc3597fdfc23>\u001b[0m in \u001b[0;36m<module>\u001b[1;34m()\u001b[0m\n\u001b[0;32m      2\u001b[0m \u001b[0mdict_1\u001b[0m\u001b[1;33m[\u001b[0m\u001b[1;34m\"april\"\u001b[0m\u001b[1;33m]\u001b[0m\u001b[1;33m=\u001b[0m\u001b[1;33m[\u001b[0m\u001b[1;36m28\u001b[0m\u001b[1;33m,\u001b[0m\u001b[1;36m29\u001b[0m\u001b[1;33m,\u001b[0m\u001b[1;36m30\u001b[0m\u001b[1;33m,\u001b[0m\u001b[1;36m31\u001b[0m\u001b[1;33m]\u001b[0m\u001b[1;33m\u001b[0m\u001b[0m\n\u001b[0;32m      3\u001b[0m \u001b[0mprint\u001b[0m\u001b[1;33m(\u001b[0m\u001b[0mdict_1\u001b[0m\u001b[1;33m)\u001b[0m\u001b[1;33m\u001b[0m\u001b[0m\n\u001b[1;32m----> 4\u001b[1;33m \u001b[0mdict_2\u001b[0m \u001b[1;33m=\u001b[0m\u001b[1;33m{\u001b[0m\u001b[1;33m[\u001b[0m\u001b[1;36m29\u001b[0m\u001b[1;33m,\u001b[0m\u001b[1;36m29\u001b[0m\u001b[1;33m,\u001b[0m\u001b[1;36m30\u001b[0m\u001b[1;33m,\u001b[0m\u001b[1;36m31\u001b[0m\u001b[1;33m]\u001b[0m\u001b[1;33m:\u001b[0m\u001b[1;36m45\u001b[0m\u001b[1;33m,\u001b[0m\u001b[1;34m\"feb\"\u001b[0m\u001b[1;33m:\u001b[0m\u001b[1;36m28\u001b[0m\u001b[1;33m}\u001b[0m\u001b[1;33m\u001b[0m\u001b[0m\n\u001b[0m\u001b[0;32m      5\u001b[0m \u001b[1;33m\u001b[0m\u001b[0m\n",
      "\u001b[1;31mTypeError\u001b[0m: unhashable type: 'list'"
     ]
    }
   ],
   "source": [
    "dict_1={\"jan\":31,\"feb\":28,\"march\":31}\n",
    "dict_1[\"april\"]=[28,29,30,31]\n",
    "print(dict_1)\n",
    "dict_2 ={[29,29,30,31]:45,\"feb\":28}\n",
    "                "
   ]
  },
  {
   "cell_type": "markdown",
   "metadata": {},
   "source": [
    "- Dictonary Functions"
   ]
  },
  {
   "cell_type": "code",
   "execution_count": 6,
   "metadata": {},
   "outputs": [
    {
     "name": "stdout",
     "output_type": "stream",
     "text": [
      "3\n"
     ]
    }
   ],
   "source": [
    "dict_1={\"jan\":31,\"feb\":28,\"march\":31}\n",
    "print(len(dict_1))"
   ]
  },
  {
   "cell_type": "code",
   "execution_count": 7,
   "metadata": {},
   "outputs": [
    {
     "name": "stdout",
     "output_type": "stream",
     "text": [
      "28\n",
      "28\n",
      "not found\n",
      "30\n",
      "{'jan': 31, 'feb': 28, 'march': 31}\n"
     ]
    }
   ],
   "source": [
    "print(dict_1.get(\"feb\"))\n",
    "print(dict_1.get(\"feb\",\"not found\"))\n",
    "\n",
    "print(dict_1.get(\"april\",\"not found\"))\n",
    "print(dict_1.get(\"april\",30))\n",
    "print(dict_1)\n"
   ]
  },
  {
   "cell_type": "code",
   "execution_count": 8,
   "metadata": {},
   "outputs": [
    {
     "name": "stdout",
     "output_type": "stream",
     "text": [
      "dict_items([('jan', 31), ('feb', 28), ('march', 31)])\n",
      "<class 'dict_items'>\n",
      "[('jan', 31), ('feb', 28), ('march', 31)]\n",
      "<class 'list'>\n"
     ]
    }
   ],
   "source": [
    "print(dict_1.items())\n",
    "print(type(dict_1.items()))\n",
    "print(list(dict_1.items()))\n",
    "print(type(list(dict_1.items())))"
   ]
  },
  {
   "cell_type": "code",
   "execution_count": null,
   "metadata": {},
   "outputs": [],
   "source": [
    "print(dict_1.keys())\n",
    "print(type(dict_1.keys()))\n",
    "print(list(dict_1.keys()))"
   ]
  },
  {
   "cell_type": "code",
   "execution_count": null,
   "metadata": {},
   "outputs": [],
   "source": [
    "print(dict_1.values())\n",
    "print(type(dict_1.values()))\n",
    "print(list(dict_1.values()))"
   ]
  },
  {
   "cell_type": "markdown",
   "metadata": {},
   "source": [
    "# Tuples"
   ]
  },
  {
   "cell_type": "code",
   "execution_count": null,
   "metadata": {},
   "outputs": [],
   "source": [
    "tuple1 = (30,50,\"jan\",\"A\",45.5)\n",
    "print(tuple1)\n",
    "print(type(tuple1))"
   ]
  },
  {
   "cell_type": "code",
   "execution_count": null,
   "metadata": {},
   "outputs": [],
   "source": [
    "print(tuple1[0])\n",
    "print(tuple1[-1])"
   ]
  },
  {
   "cell_type": "code",
   "execution_count": null,
   "metadata": {},
   "outputs": [],
   "source": [
    "print(tuple1[1:])\n",
    "print(tuple1[1::2])\n",
    "print(tuple1[::-1])"
   ]
  },
  {
   "cell_type": "code",
   "execution_count": null,
   "metadata": {},
   "outputs": [],
   "source": [
    "tuple1[0]=100"
   ]
  },
  {
   "cell_type": "markdown",
   "metadata": {},
   "source": [
    "# LOOPS"
   ]
  },
  {
   "cell_type": "markdown",
   "metadata": {},
   "source": [
    "- range"
   ]
  },
  {
   "cell_type": "code",
   "execution_count": null,
   "metadata": {},
   "outputs": [],
   "source": [
    "print(range(10))\n",
    "print(type(range(10)))\n",
    "print(list(range(0,10)))\n",
    "print(list(range(2,8)))\n",
    "print(list(range(0,10,2)))\n",
    "#print(list(range(0,10,2.3)))"
   ]
  },
  {
   "cell_type": "markdown",
   "metadata": {},
   "source": [
    "- for loop"
   ]
  },
  {
   "cell_type": "code",
   "execution_count": null,
   "metadata": {},
   "outputs": [],
   "source": [
    "for everyitem in list(range(0,10)):\n",
    "    print(everyitem)\n",
    "for everyitem in list(range(0,10)):\n",
    "     print(everyitem,end =\" \")    "
   ]
  },
  {
   "cell_type": "code",
   "execution_count": null,
   "metadata": {},
   "outputs": [],
   "source": [
    "#print(str,sep-,end-)\n",
    "print(\"shwetank\",\"mishra\",sep = \"\",end = \"@\")\n",
    "print(\"eduvance.in\")"
   ]
  },
  {
   "cell_type": "code",
   "execution_count": null,
   "metadata": {},
   "outputs": [],
   "source": [
    "list1 = [1,12,23,4,5,56,243,2,\"a\",\"c\"]\n",
    "for i in list1:\n",
    "    print(i)"
   ]
  },
  {
   "cell_type": "code",
   "execution_count": null,
   "metadata": {},
   "outputs": [],
   "source": [
    "for i in list(range(1,0)):\n",
    "    if i%2==0:\n",
    "        print(i)\n",
    "    print(\"*****\",i,\"*****\")"
   ]
  },
  {
   "cell_type": "markdown",
   "metadata": {},
   "source": [
    "- While Loop"
   ]
  },
  {
   "cell_type": "code",
   "execution_count": null,
   "metadata": {},
   "outputs": [],
   "source": [
    "num = 0\n",
    "while num<5:\n",
    "    print(num)\n",
    "    num+=1\n",
    "    #num=num+1"
   ]
  },
  {
   "cell_type": "code",
   "execution_count": null,
   "metadata": {},
   "outputs": [],
   "source": [
    "list1=[1,2,3,4,5]\n",
    "while len(list1)>0:\n",
    "    del list1[-1]\n",
    "    print(list1)"
   ]
  },
  {
   "cell_type": "markdown",
   "metadata": {},
   "source": [
    "- String Functions"
   ]
  },
  {
   "cell_type": "markdown",
   "metadata": {},
   "source": [
    "- startswith, endswith "
   ]
  },
  {
   "cell_type": "code",
   "execution_count": null,
   "metadata": {},
   "outputs": [],
   "source": [
    "str1= \"cat apple yogya khan\"\n",
    "print(str1.startswith(\"cat\"))\n",
    "\n",
    "if str1.startswith(\"cat\"):\n",
    "    print(\"correct\")\n",
    "    \n",
    "    if str1.endswith(\"khan\"):\n",
    "        print(\"correct\")\n",
    "        \n",
    "else:\n",
    "    print(\"incorrect\")\n",
    "\n"
   ]
  },
  {
   "cell_type": "code",
   "execution_count": null,
   "metadata": {},
   "outputs": [],
   "source": [
    "str1= \"cat apple mango dog\"\n",
    "print(str1.startswith(\"apple\",4))\n",
    "print(str1.startswith(\"apple\",4,9))\n"
   ]
  },
  {
   "cell_type": "code",
   "execution_count": null,
   "metadata": {},
   "outputs": [],
   "source": [
    "str1= \"cat apple mango dog\"\n",
    "print(str1.endswith(\"og\",4))\n",
    "print(str1.endswith(\"og\",4,4))"
   ]
  },
  {
   "cell_type": "markdown",
   "metadata": {},
   "source": [
    "- strip,lstrip,rstrip"
   ]
  },
  {
   "cell_type": "code",
   "execution_count": 3,
   "metadata": {},
   "outputs": [
    {
     "name": "stdout",
     "output_type": "stream",
     "text": [
      "0000cat apple mango dog0000\n",
      "cat apple mango dog\n",
      "cat apple mango dog\n"
     ]
    }
   ],
   "source": [
    "str1 =\"0000cat apple mango dog0000\"\n",
    "print(str1.strip(\"c\"))\n",
    "print(str1.strip(\"0\"))\n",
    "str2 = \"     cat apple mango dog     \"\n",
    "print(str2.strip(\" \"))"
   ]
  },
  {
   "cell_type": "code",
   "execution_count": null,
   "metadata": {},
   "outputs": [],
   "source": [
    "print(str1.lstrip(\"0\"))\n",
    "print(str1.strip(\"c\"))\n",
    "\n"
   ]
  },
  {
   "cell_type": "code",
   "execution_count": null,
   "metadata": {},
   "outputs": [],
   "source": [
    "print(str1.rstrip(\"0\"))\n",
    "print(str1.strip(\"c\"))"
   ]
  },
  {
   "cell_type": "markdown",
   "metadata": {},
   "source": [
    "- isupper, islower, upper, lower"
   ]
  },
  {
   "cell_type": "code",
   "execution_count": null,
   "metadata": {},
   "outputs": [],
   "source": [
    "str1= \"HELLO\"\n",
    "str2= \"hello\"\n",
    "str3= \"HEllo\"\n",
    "print(str1.isupper())\n",
    "print(str2.isupper())\n",
    "print(str1.isupper())\n",
    "if str1.isupper():\n",
    "    print(\"It is upper case\")\n",
    "else:\n",
    "    print(\"It is not upper case\")"
   ]
  },
  {
   "cell_type": "code",
   "execution_count": null,
   "metadata": {},
   "outputs": [],
   "source": [
    "print(str1.islower())\n",
    "print(str2.islower())\n",
    "print(str3.islower())\n",
    "if str1.islower():\n",
    "    print(\"It is lower case\")\n",
    "else:\n",
    "    print(\"It is not lower case\")"
   ]
  },
  {
   "cell_type": "code",
   "execution_count": null,
   "metadata": {},
   "outputs": [],
   "source": [
    "str1= \"HELLO\"\n",
    "str2= \"hello\"\n",
    "str3= \"HEllo\"\n",
    "print(str2)\n",
    "print(str2.upper())\n",
    "print(str3.upper())"
   ]
  },
  {
   "cell_type": "code",
   "execution_count": null,
   "metadata": {},
   "outputs": [],
   "source": [
    "str1= \"HELLO\"\n",
    "str2= \"hello\"\n",
    "str3= \"HEllo\"\n",
    "print(str2)\n",
    "print(str2.lower())\n",
    "print(str3.lower())"
   ]
  },
  {
   "cell_type": "code",
   "execution_count": null,
   "metadata": {},
   "outputs": [],
   "source": [
    "print(str3)\n",
    "print(str3.swapcase())"
   ]
  },
  {
   "cell_type": "markdown",
   "metadata": {},
   "source": [
    " - replace, join,split"
   ]
  },
  {
   "cell_type": "code",
   "execution_count": null,
   "metadata": {},
   "outputs": [],
   "source": [
    "oldstring = \" I like programming\"\n",
    "newstring = oldstring.replace(\"like\",\"love\")\n",
    "print(newstring)\n",
    "\n",
    "newstring = oldstring.replace(\"dislike\",\"love\")\n",
    "print(newstring)\n",
    "\n",
    "oldstring =\" I like Python. I like programming.i just like programming\"\n",
    "newstring = oldstring.replace(\"like\",\"love\",1)\n",
    "print(newstring)\n"
   ]
  },
  {
   "cell_type": "code",
   "execution_count": null,
   "metadata": {},
   "outputs": [],
   "source": [
    "sep =\"-\"\n",
    "date = sep.join((\"13\",\"6\",\"2019\")) #tuple\n",
    "print(date)"
   ]
  },
  {
   "cell_type": "code",
   "execution_count": null,
   "metadata": {},
   "outputs": [],
   "source": [
    "sep =\"-\"\n",
    "date = sep.join([\"13\",\"6\",\"2019\"]) #list\n",
    "print(date)"
   ]
  },
  {
   "cell_type": "code",
   "execution_count": null,
   "metadata": {},
   "outputs": [],
   "source": [
    "sep= \"  &  \"\n",
    "list1= [\"prathamesh\",\"shwetank\",\"yugesh\",\"elizabeth\"]\n",
    "names = sep.join(list1)\n",
    "print(names)"
   ]
  },
  {
   "cell_type": "code",
   "execution_count": null,
   "metadata": {},
   "outputs": [],
   "source": [
    "\n",
    "str1 =\"cat?dog?monkey?deer?yugesh\"\n",
    "names=str1.split(\"?\")\n",
    "print(names)\n",
    "names=str1.split(\"?\",3)\n",
    "print(names)\n",
    "names=str1.split(\"?\",1)\n",
    "print(names)"
   ]
  },
  {
   "cell_type": "code",
   "execution_count": null,
   "metadata": {},
   "outputs": [],
   "source": []
  }
 ],
 "metadata": {
  "kernelspec": {
   "display_name": "Python 3",
   "language": "python",
   "name": "python3"
  },
  "language_info": {
   "codemirror_mode": {
    "name": "ipython",
    "version": 3
   },
   "file_extension": ".py",
   "mimetype": "text/x-python",
   "name": "python",
   "nbconvert_exporter": "python",
   "pygments_lexer": "ipython3",
   "version": "3.7.0"
  }
 },
 "nbformat": 4,
 "nbformat_minor": 2
}
