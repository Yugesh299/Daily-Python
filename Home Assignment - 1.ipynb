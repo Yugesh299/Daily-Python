{
 "cells": [
  {
   "cell_type": "markdown",
   "metadata": {},
   "source": [
    "# HA-1 List of month"
   ]
  },
  {
   "cell_type": "code",
   "execution_count": 9,
   "metadata": {},
   "outputs": [
    {
     "name": "stdout",
     "output_type": "stream",
     "text": [
      "The first Month is:January\n",
      "The last Month is:December\n",
      "The first 4 Month are:['January', 'February', 'March', 'April']\n",
      "The Last 5 Months are:['August', 'September', 'October', 'November', 'December']\n"
     ]
    }
   ],
   "source": [
    "list1 = [\"January\",\"February\",\"March\",\"April\",\"May\",\"June\",\"July\",\"August\",\"September\",\"October\",\"November\",\"December\"]\n",
    "print(\"The first Month is:{0}\".format(list1[0]))\n",
    "print(\"The last Month is:{0}\".format(list1[-1]))\n",
    "print(\"The first 4 Month are:{0}\".format(list1[:4]))\n",
    "print(\"The Last 5 Months are:{0}\".format(list1[-5:]))\n"
   ]
  },
  {
   "cell_type": "markdown",
   "metadata": {},
   "source": [
    "# HA-2 Funny Names"
   ]
  },
  {
   "cell_type": "code",
   "execution_count": null,
   "metadata": {},
   "outputs": [],
   "source": [
    "str1=str(input(\"Enter Your name:\"))\n",
    "print(str1[::2])"
   ]
  },
  {
   "cell_type": "markdown",
   "metadata": {},
   "source": [
    "# HA-3 Area Of Circle"
   ]
  },
  {
   "cell_type": "code",
   "execution_count": null,
   "metadata": {},
   "outputs": [],
   "source": [
    "r =float(input(\"Enter Radius\"))\n",
    "a= 3.141592*(r**2)\n",
    "print(\"Area of circle:\")\n",
    "print(a)"
   ]
  },
  {
   "cell_type": "markdown",
   "metadata": {},
   "source": [
    "# HA-4 Positivity Check"
   ]
  },
  {
   "cell_type": "code",
   "execution_count": null,
   "metadata": {},
   "outputs": [],
   "source": [
    "num = float(input(\"Enter a number: \"))\n",
    "if num >= 0:\n",
    "    if num == 0:\n",
    "        print(\"Zero\")\n",
    "    else:\n",
    "        print(\"Positive number\")\n",
    "else:\n",
    "    print(\"Negative number\")\n"
   ]
  },
  {
   "cell_type": "markdown",
   "metadata": {},
   "source": [
    "# HA-5 Day of the month"
   ]
  },
  {
   "cell_type": "code",
   "execution_count": null,
   "metadata": {},
   "outputs": [],
   "source": [
    "print(\"List of months: January, February, March, April, May, June, July, August, September, October, November, December\")\n",
    "month_name = input(\"Input the name of Month: \")\n",
    " \n",
    "if month_name == \"February\":\n",
    "    print(\"No. of days: 28/29 days\")\n",
    "elif month_name in (\"April\", \"June\", \"September\", \"November\"):\n",
    "    print(\"No. of days: 30 days\")\n",
    "elif month_name in (\"January\", \"March\", \"May\", \"July\", \"August\", \"October\", \"December\"):\n",
    "    print(\"No. of days: 31 day\")\n",
    "else:\n",
    "    print(\"Wrong month name\") "
   ]
  },
  {
   "cell_type": "markdown",
   "metadata": {},
   "source": [
    "# HA-6 Unique ID Recognition"
   ]
  },
  {
   "cell_type": "code",
   "execution_count": 5,
   "metadata": {},
   "outputs": [
    {
     "name": "stdout",
     "output_type": "stream",
     "text": [
      "Enter you full name:yugesh\n",
      "\n",
      "Enter your phone number:4578894556\n",
      "\n",
      " Enter your pincode:455689\n",
      "\n",
      "\n",
      "\n",
      "Enter the respective number of your acc type4\n",
      "\n",
      " Your unique ID is: 455689yu&4\n"
     ]
    }
   ],
   "source": [
    "x=input(\"Enter you full name:\")\n",
    "if x.isdigit() == True:\n",
    "    print(\"Enter valid name! Try again\")\n",
    "    x=input(\"Enter your name:\")\n",
    "    \n",
    "mob=input(\"\\nEnter your phone number:\")\n",
    "while mob.isdigit() ==False:\n",
    "    if mob.isdigit()==True:\n",
    "        print(\"\")\n",
    "    else:\n",
    "        print(\"Characters are not allowed !Try again\")\n",
    "        mob=input(\"\\nEnter your phone number:\")\n",
    "while len(mob)!=10:\n",
    "      if len((mob))==10:\n",
    "       print(\"\")\n",
    "      else:\n",
    "       print(\"Enter a  10 digit number!Try again\")\n",
    "       mob= input(\"Enter your mobile number:\")\n",
    "mob=int(mob)\n",
    "\n",
    "pin= input(\"\\n Enter your pincode:\")\n",
    "if pin.isdigit()== True:\n",
    "    print(\"\")\n",
    "else:\n",
    "    print(\"Characters not allowed! TRY again\")\n",
    "    pin=print(\"Enter your area pincode:\")\n",
    "if len(pin)==6:\n",
    "   print(\"\")\n",
    "else:\n",
    "    print(\"Enter a 6 digit pincode! Try again\")\n",
    "    pin=print(\"Enter your area pincode:\")\n",
    "pin=int(pin)\n",
    "       \n",
    "t=input(\"\\nEnter the respective number of your acc type\")\n",
    "t=int(t)\n",
    "while t>4:\n",
    "       print(\"This is not a valid input!Try again\")\n",
    "       t=int(input(\"Enter the respective number your type again:\"))\n",
    "s=0\n",
    "while mob>0:\n",
    "       s+=mob%10\n",
    "       mob=mob//10\n",
    "s1=0\n",
    "while s>0:\n",
    "       s1+=s%10\n",
    "       s=s//10\n",
    "if s1==1:\n",
    "       s1=\"!\"\n",
    "if s1==2:\n",
    "       s1=\"@\"\n",
    "if s1==3:\n",
    "       s1=\"#\"\n",
    "if s1==4:\n",
    "       s1=\"$\"\n",
    "if s1==5:\n",
    "       s1=\"%\"       \n",
    "if s1==6:\n",
    "       s1=\"^\"\n",
    "if s1==7:\n",
    "       s1=\"&\"\n",
    "if s1==8:\n",
    "       s1=\"*\"      \n",
    "if s1==9:\n",
    "       s1=\"(\"\n",
    "if s1==0:\n",
    "       s1=\")\"\n",
    "\n",
    "s1=str(s1)\n",
    "pin=str(pin)\n",
    "t=str(t)\n",
    "id=print(\"\\n Your unique ID is:\",pin+x[:2]+s1+t)"
   ]
  },
  {
   "cell_type": "code",
   "execution_count": null,
   "metadata": {},
   "outputs": [],
   "source": []
  }
 ],
 "metadata": {
  "kernelspec": {
   "display_name": "Python 3",
   "language": "python",
   "name": "python3"
  },
  "language_info": {
   "codemirror_mode": {
    "name": "ipython",
    "version": 3
   },
   "file_extension": ".py",
   "mimetype": "text/x-python",
   "name": "python",
   "nbconvert_exporter": "python",
   "pygments_lexer": "ipython3",
   "version": "3.7.3"
  }
 },
 "nbformat": 4,
 "nbformat_minor": 2
}
