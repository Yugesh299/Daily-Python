{
 "cells": [
  {
   "cell_type": "markdown",
   "metadata": {},
   "source": [
    "## Clustering "
   ]
  },
  {
   "cell_type": "code",
   "execution_count": 37,
   "metadata": {},
   "outputs": [],
   "source": [
    "import pandas as pd\n",
    "import matplotlib.pyplot as plt\n",
    "import numpy as np"
   ]
  },
  {
   "cell_type": "code",
   "execution_count": 38,
   "metadata": {},
   "outputs": [
    {
     "data": {
      "text/html": [
       "<div>\n",
       "<style scoped>\n",
       "    .dataframe tbody tr th:only-of-type {\n",
       "        vertical-align: middle;\n",
       "    }\n",
       "\n",
       "    .dataframe tbody tr th {\n",
       "        vertical-align: top;\n",
       "    }\n",
       "\n",
       "    .dataframe thead th {\n",
       "        text-align: right;\n",
       "    }\n",
       "</style>\n",
       "<table border=\"1\" class=\"dataframe\">\n",
       "  <thead>\n",
       "    <tr style=\"text-align: right;\">\n",
       "      <th></th>\n",
       "      <th>x0</th>\n",
       "      <th>x1</th>\n",
       "    </tr>\n",
       "  </thead>\n",
       "  <tbody>\n",
       "    <tr>\n",
       "      <th>0</th>\n",
       "      <td>7</td>\n",
       "      <td>5</td>\n",
       "    </tr>\n",
       "    <tr>\n",
       "      <th>1</th>\n",
       "      <td>5</td>\n",
       "      <td>7</td>\n",
       "    </tr>\n",
       "    <tr>\n",
       "      <th>2</th>\n",
       "      <td>7</td>\n",
       "      <td>7</td>\n",
       "    </tr>\n",
       "    <tr>\n",
       "      <th>3</th>\n",
       "      <td>3</td>\n",
       "      <td>3</td>\n",
       "    </tr>\n",
       "    <tr>\n",
       "      <th>4</th>\n",
       "      <td>4</td>\n",
       "      <td>6</td>\n",
       "    </tr>\n",
       "    <tr>\n",
       "      <th>5</th>\n",
       "      <td>1</td>\n",
       "      <td>4</td>\n",
       "    </tr>\n",
       "    <tr>\n",
       "      <th>6</th>\n",
       "      <td>0</td>\n",
       "      <td>0</td>\n",
       "    </tr>\n",
       "    <tr>\n",
       "      <th>7</th>\n",
       "      <td>2</td>\n",
       "      <td>2</td>\n",
       "    </tr>\n",
       "    <tr>\n",
       "      <th>8</th>\n",
       "      <td>8</td>\n",
       "      <td>7</td>\n",
       "    </tr>\n",
       "    <tr>\n",
       "      <th>9</th>\n",
       "      <td>6</td>\n",
       "      <td>8</td>\n",
       "    </tr>\n",
       "    <tr>\n",
       "      <th>10</th>\n",
       "      <td>5</td>\n",
       "      <td>5</td>\n",
       "    </tr>\n",
       "    <tr>\n",
       "      <th>11</th>\n",
       "      <td>3</td>\n",
       "      <td>7</td>\n",
       "    </tr>\n",
       "  </tbody>\n",
       "</table>\n",
       "</div>"
      ],
      "text/plain": [
       "    x0  x1\n",
       "0    7   5\n",
       "1    5   7\n",
       "2    7   7\n",
       "3    3   3\n",
       "4    4   6\n",
       "5    1   4\n",
       "6    0   0\n",
       "7    2   2\n",
       "8    8   7\n",
       "9    6   8\n",
       "10   5   5\n",
       "11   3   7"
      ]
     },
     "execution_count": 38,
     "metadata": {},
     "output_type": "execute_result"
    }
   ],
   "source": [
    "df= pd.DataFrame(\n",
    "     data={\n",
    "         'x0':[7,5,7,3,4,1,0,2,8,6,5,3],\n",
    "         'x1':[5,7,7,3,6,4,0,2,7,8,5,7]})\n",
    "df"
   ]
  },
  {
   "cell_type": "code",
   "execution_count": 39,
   "metadata": {},
   "outputs": [
    {
     "data": {
      "image/png": "[encoded data removed]",
      "text/plain": [
       "<Figure size 432x288 with 1 Axes>"
      ]
     },
     "metadata": {
      "needs_background": "light"
     },
     "output_type": "display_data"
    }
   ],
   "source": [
    "plt.scatter(df['x0'],df['x1'])\n",
    "plt.xlabel('x0')\n",
    "plt.ylabel('x1')\n",
    "plt.grid()"
   ]
  },
  {
   "cell_type": "markdown",
   "metadata": {},
   "source": [
    "- **Forming 2 Clusters**"
   ]
  },
  {
   "cell_type": "code",
   "execution_count": 40,
   "metadata": {},
   "outputs": [
    {
     "name": "stdout",
     "output_type": "stream",
     "text": [
      "[1 1 1 0 1 0 0 0 1 1 1 1]\n",
      "Centroids are\n",
      " [[1.5   2.25 ]\n",
      " [5.625 6.5  ]]\n"
     ]
    }
   ],
   "source": [
    "from sklearn.cluster import KMeans\n",
    "\n",
    "\n",
    "kmeans= KMeans(n_clusters=2, init='random') #3 clusters are formed\n",
    "y_kmeans = kmeans.fit_predict(df)\n",
    "print(y_kmeans)\n",
    "c= kmeans.cluster_centers_ #centroid points\n",
    "print('Centroids are\\n',c)"
   ]
  },
  {
   "cell_type": "code",
   "execution_count": 41,
   "metadata": {},
   "outputs": [
    {
     "name": "stdout",
     "output_type": "stream",
     "text": [
      "41.625\n"
     ]
    }
   ],
   "source": [
    "print(kmeans.inertia_) #sum of squared distance to cluster"
   ]
  },
  {
   "cell_type": "code",
   "execution_count": 42,
   "metadata": {},
   "outputs": [
    {
     "name": "stdout",
     "output_type": "stream",
     "text": [
      "Clusters are formed in 4 iterations\n"
     ]
    }
   ],
   "source": [
    "print('Clusters are formed in {0} iterations'.format (kmeans.n_iter_))"
   ]
  },
  {
   "cell_type": "code",
   "execution_count": 43,
   "metadata": {},
   "outputs": [
    {
     "data": {
      "image/png": "[encoded data removed]",
      "text/plain": [
       "<Figure size 432x288 with 1 Axes>"
      ]
     },
     "metadata": {
      "needs_background": "light"
     },
     "output_type": "display_data"
    }
   ],
   "source": [
    "plt.scatter(df['x0'],df['x1'], c=y_kmeans, s=50, cmap='Set1')\n",
    "plt.scatter(c[:,0],c[:,1], c='blue', s=200)\n",
    "plt.grid()"
   ]
  },
  {
   "cell_type": "markdown",
   "metadata": {},
   "source": [
    "## Distance between centroid and other cluster points"
   ]
  },
  {
   "cell_type": "code",
   "execution_count": 53,
   "metadata": {},
   "outputs": [
    {
     "name": "stdout",
     "output_type": "stream",
     "text": [
      "   x0  x1\n",
      "3   3   3\n",
      "5   1   4\n",
      "6   0   0\n",
      "7   2   2\n",
      "    x0  x1\n",
      "0    7   5\n",
      "1    5   7\n",
      "2    7   7\n",
      "4    4   6\n",
      "8    8   7\n",
      "9    6   8\n",
      "10   5   5\n",
      "11   3   7\n",
      "3    1.677051\n",
      "5    1.820027\n",
      "6    2.704163\n",
      "7    0.559017\n",
      "dtype: float64\n",
      "0     2.034853\n",
      "1     0.800391\n",
      "2     1.463087\n",
      "4     1.700184\n",
      "8     2.427061\n",
      "9     1.546165\n",
      "10    1.625000\n",
      "11    2.672195\n",
      "dtype: float64\n",
      "1.6900647266044777\n",
      "1.783616848362815\n"
     ]
    }
   ],
   "source": [
    "c1_centroid=c[0]\n",
    "c2_centroid=c[1]\n",
    "\n",
    "cluster1_points=df[y_kmeans==0]\n",
    "cluster2_points=df[y_kmeans==1]\n",
    "\n",
    "print(cluster1_points)\n",
    "print(cluster2_points)\n",
    "\n",
    "c1_distances=cluster1_points.apply(lambda x: np.sqrt ((x[0]-c1_centroid[0])**2 +\n",
    "                                                      (x[1]-c1_centroid[1])**2),axis=1)\n",
    "c2_distances=cluster2_points.apply(lambda x: np.sqrt ((x[0]-c2_centroid[0])**2 +\n",
    "                                                      (x[1]-c2_centroid[1])**2),axis=1)\n",
    "\n",
    "print(c1_distances)\n",
    "print(c2_distances)\n",
    "\n",
    "print(c1_distances.mean())\n",
    "print(c2_distances.mean())"
   ]
  },
  {
   "cell_type": "code",
   "execution_count": 57,
   "metadata": {},
   "outputs": [
    {
     "data": {
      "image/png": "[encoded data removed]",
      "text/plain": [
       "<Figure size 432x432 with 1 Axes>"
      ]
     },
     "metadata": {
      "needs_background": "light"
     },
     "output_type": "display_data"
    }
   ],
   "source": [
    "from matplotlib.patches import Circle\n",
    "from matplotlib.collections import PatchCollection\n",
    "\n",
    "fig,ax = plt.subplots(figsize=(6,6))\n",
    "\n",
    "plt.scatter(df['x0'],df['x1'], c=y_kmeans, cmap='Set1')\n",
    "plt.scatter(c[:,0],c[:,1],)\n",
    "\n",
    "circle1= plt.Circle(c1_centroid, c1_distances.max(), alpha=0.1)\n",
    "circle2= plt.Circle(c2_centroid, c2_distances.max(), alpha=0.1)\n",
    "\n",
    "ax.add_artist(circle1)\n",
    "ax.add_artist(circle2)\n",
    "plt.grid()"
   ]
  },
  {
   "cell_type": "markdown",
   "metadata": {},
   "source": [
    "- **Elbow Method- to determine optimum clusters**"
   ]
  },
  {
   "cell_type": "code",
   "execution_count": 62,
   "metadata": {},
   "outputs": [
    {
     "data": {
      "text/plain": [
       "Text(0,0.5,'SSE or Inertia')"
      ]
     },
     "execution_count": 62,
     "metadata": {},
     "output_type": "execute_result"
    },
    {
     "data": {
      "image/png": "[encoded data removed]",
      "text/plain": [
       "<Figure size 600x400 with 1 Axes>"
      ]
     },
     "metadata": {
      "needs_background": "light"
     },
     "output_type": "display_data"
    }
   ],
   "source": [
    "\n",
    "sse={}\n",
    "for k in range(1,10):\n",
    "    kmeans =KMeans(init='k-means++', n_clusters=k,max_iter=1000).fit(df)\n",
    "    df[\"clusters\"]=kmeans.labels_\n",
    "    #print(df[\"clusters\"])\n",
    "    \n",
    "    sse[k]= kmeans.inertia_\n",
    "    \n",
    "plt.figure(dpi= 100)\n",
    "plt.plot(list(sse.keys()),list(sse.values()))\n",
    "plt.xlabel(\"Number of clusters\")\n",
    "plt.ylabel(\"SSE or Inertia\")"
   ]
  },
  {
   "cell_type": "markdown",
   "metadata": {},
   "source": [
    "- **Silhouette coefficient**"
   ]
  },
  {
   "cell_type": "code",
   "execution_count": 69,
   "metadata": {},
   "outputs": [
    {
     "data": {
      "image/png": "[encoded data removed]",
      "text/plain": [
       "<Figure size 600x400 with 1 Axes>"
      ]
     },
     "metadata": {
      "needs_background": "light"
     },
     "output_type": "display_data"
    }
   ],
   "source": [
    "from sklearn.metrics import silhouette_score\n",
    "sil={}\n",
    "for k in range(2,10):\n",
    "    kmeans =KMeans(init='k-means++', n_clusters=k,max_iter=1000).fit(df)\n",
    "    df[\"clusters\"]=kmeans.labels_\n",
    "    \n",
    "    label= kmeans.labels_\n",
    "    sil_coeff=silhouette_score(df,label,metric='euclidean')\n",
    "    sil[k]= sil_coeff\n",
    "    \n",
    "plt.figure(dpi= 100)\n",
    "plt.plot(list(sil.keys()),list(sil.values()))\n",
    "plt.xlabel(\"Number of clusters\")\n",
    "plt.ylabel(\"Silhouette Score\")\n",
    "plt.grid()"
   ]
  },
  {
   "cell_type": "code",
   "execution_count": null,
   "metadata": {},
   "outputs": [],
   "source": []
  }
 ],
 "metadata": {
  "kernelspec": {
   "display_name": "Python 3",
   "language": "python",
   "name": "python3"
  },
  "language_info": {
   "codemirror_mode": {
    "name": "ipython",
    "version": 3
   },
   "file_extension": ".py",
   "mimetype": "text/x-python",
   "name": "python",
   "nbconvert_exporter": "python",
   "pygments_lexer": "ipython3",
   "version": "3.8.3"
  }
 },
 "nbformat": 4,
 "nbformat_minor": 2
}
