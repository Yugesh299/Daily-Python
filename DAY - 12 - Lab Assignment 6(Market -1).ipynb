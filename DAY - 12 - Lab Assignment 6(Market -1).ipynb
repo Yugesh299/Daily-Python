{
 "cells": [
  {
   "cell_type": "markdown",
   "metadata": {},
   "source": [
    "# Association Learning"
   ]
  },
  {
   "cell_type": "markdown",
   "metadata": {},
   "source": [
    "## Lab Assignment - Market Basket Analysis-1"
   ]
  },
  {
   "cell_type": "code",
   "execution_count": 2,
   "metadata": {},
   "outputs": [
    {
     "name": "stdout",
     "output_type": "stream",
     "text": [
      "[[False False False  True False  True  True  True  True False  True]\n",
      " [False False  True  True False  True False  True  True False  True]\n",
      " [ True False False  True False  True  True False False False False]\n",
      " [False  True False False False  True  True False False  True  True]\n",
      " [False  True False  True  True  True False False  True False False]]\n",
      "['Apple', 'Corn', 'Dill', 'Eggs', 'Ice cream', 'Kidney Beans', 'Milk', 'Nutmeg', 'Onion', 'Unicorn', 'Yogurt']\n",
      "What do you want to buy? Kidney Beans\n",
      "['Kidney Beans']\n",
      "Do you want to buy anything out of these? \n",
      "0    (Eggs)\n",
      "Name: consequents, dtype: object\n",
      "Do you want to buy anything? Press Y to buy and N to Exit: N\n",
      "You have Purchased: ['Kidney Beans']'\n",
      "Thank you visit again \n"
     ]
    }
   ],
   "source": [
    "import numpy as np\n",
    "import matplotlib.pyplot as plt \n",
    "import pandas as pd\n",
    "import mlxtend\n",
    "from mlxtend.preprocessing import TransactionEncoder\n",
    "#mlxtend.__version__\n",
    "\n",
    "#take data\n",
    "dataset = [['Milk', 'Onion', 'Nutmeg', 'Kidney Beans', 'Eggs', 'Yogurt'],\n",
    "           ['Dill', 'Onion', 'Nutmeg', 'Kidney Beans', 'Eggs', 'Yogurt'],\n",
    "           ['Milk', 'Apple', 'Kidney Beans', 'Eggs'],\n",
    "           ['Milk', 'Unicorn', 'Corn', 'Kidney Beans', 'Yogurt'],\n",
    "           ['Corn', 'Onion', 'Onion', 'Kidney Beans', 'Ice cream', 'Eggs']]\n",
    "\n",
    "#transaction encoder\n",
    "te = TransactionEncoder()\n",
    "te = te.fit(dataset)# Reads all unique items\n",
    "te_ary = te.transform(dataset)#Converts into matrix\n",
    "print(te_ary)\n",
    "print(te.columns_)\n",
    "df = pd.DataFrame(te_ary,columns= te.columns_)\n",
    "\n",
    "#apriori\n",
    "from mlxtend.frequent_patterns import apriori\n",
    "frequent_itemsets = apriori(df,min_support =0.8,use_colnames =True)#support is frequency\n",
    "frequent_itemsets # itemset are in tuple\n",
    "from mlxtend.frequent_patterns import association_rules\n",
    "association_rules(frequent_itemsets,metric='support',min_threshold=0.8)\n",
    "\n",
    "rules = association_rules(frequent_itemsets,metric='support',min_threshold=0.8)\n",
    "\n",
    "rules[rules['confidence']>0.8]\n",
    "rules[rules['support']>=rules['support'].max()]\n",
    "\n",
    "\n",
    "cartItem = []\n",
    "first_Item = str(input(\"What do you want to buy? \"))\n",
    "cartItem.append(first_Item)\n",
    "print(cartItem)\n",
    "\n",
    "\n",
    "#while\n",
    "while(len(cartItem)<6):\n",
    "    print(\"Do you want to buy anything out of these? \")\n",
    "    pred = rules[rules['antecedents'].apply(lambda x:set(cartItem).issubset(set(x)))]\n",
    "    print(pred['consequents'])\n",
    "        \n",
    "    cond = input(\"Do you want to buy anything? Press Y to buy and N to Exit: \").capitalize()\n",
    " \n",
    "    if(cond=='Y'):\n",
    "        app=input(\"What else do you want to buy? \")\n",
    "        app.lower()\n",
    "        cartItem.append(app)\n",
    "    else:\n",
    "        print(\"You have Purchased: {0}'\".format(cartItem))\n",
    "        print(\"Thank you visit again \")\n",
    "        break"
   ]
  },
  {
   "cell_type": "code",
   "execution_count": null,
   "metadata": {},
   "outputs": [],
   "source": []
  }
 ],
 "metadata": {
  "kernelspec": {
   "display_name": "Python 3",
   "language": "python",
   "name": "python3"
  },
  "language_info": {
   "codemirror_mode": {
    "name": "ipython",
    "version": 3
   },
   "file_extension": ".py",
   "mimetype": "text/x-python",
   "name": "python",
   "nbconvert_exporter": "python",
   "pygments_lexer": "ipython3",
   "version": "3.7.0"
  }
 },
 "nbformat": 4,
 "nbformat_minor": 2
}
