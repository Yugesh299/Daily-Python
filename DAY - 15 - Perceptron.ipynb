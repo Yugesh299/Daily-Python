{
 "cells": [
  {
   "cell_type": "markdown",
   "metadata": {},
   "source": [
    "# Perceptron"
   ]
  },
  {
   "cell_type": "code",
   "execution_count": 1,
   "metadata": {},
   "outputs": [
    {
     "data": {
      "text/html": [
       "<div>\n",
       "<style scoped>\n",
       "    .dataframe tbody tr th:only-of-type {\n",
       "        vertical-align: middle;\n",
       "    }\n",
       "\n",
       "    .dataframe tbody tr th {\n",
       "        vertical-align: top;\n",
       "    }\n",
       "\n",
       "    .dataframe thead th {\n",
       "        text-align: right;\n",
       "    }\n",
       "</style>\n",
       "<table border=\"1\" class=\"dataframe\">\n",
       "  <thead>\n",
       "    <tr style=\"text-align: right;\">\n",
       "      <th></th>\n",
       "      <th>sleep_proportion</th>\n",
       "      <th>grumpy_proportion</th>\n",
       "      <th>prediction</th>\n",
       "    </tr>\n",
       "  </thead>\n",
       "  <tbody>\n",
       "    <tr>\n",
       "      <th>0</th>\n",
       "      <td>0.2</td>\n",
       "      <td>0.1</td>\n",
       "      <td>kitten</td>\n",
       "    </tr>\n",
       "    <tr>\n",
       "      <th>1</th>\n",
       "      <td>0.4</td>\n",
       "      <td>0.6</td>\n",
       "      <td>kitten</td>\n",
       "    </tr>\n",
       "    <tr>\n",
       "      <th>2</th>\n",
       "      <td>0.5</td>\n",
       "      <td>0.2</td>\n",
       "      <td>kitten</td>\n",
       "    </tr>\n",
       "    <tr>\n",
       "      <th>3</th>\n",
       "      <td>0.7</td>\n",
       "      <td>0.9</td>\n",
       "      <td>adult</td>\n",
       "    </tr>\n",
       "  </tbody>\n",
       "</table>\n",
       "</div>"
      ],
      "text/plain": [
       "   sleep_proportion  grumpy_proportion prediction\n",
       "0               0.2                0.1     kitten\n",
       "1               0.4                0.6     kitten\n",
       "2               0.5                0.2     kitten\n",
       "3               0.7                0.9      adult"
      ]
     },
     "execution_count": 1,
     "metadata": {},
     "output_type": "execute_result"
    }
   ],
   "source": [
    "import pandas as pd\n",
    "import matplotlib.pyplot as plt\n",
    "%matplotlib inline\n",
    "df=pd.DataFrame({'sleep_proportion':[0.2,0.4,0.5,0.7],\\\n",
    "                 'grumpy_proportion':[0.1,0.6,0.2,0.9],\\\n",
    "                 'prediction':['kitten','kitten','kitten','adult']})\n",
    "df"
   ]
  },
  {
   "cell_type": "code",
   "execution_count": 2,
   "metadata": {},
   "outputs": [],
   "source": [
    "kitten=df[df['prediction']=='kitten']\n",
    "adult=df[df['prediction']=='adult']"
   ]
  },
  {
   "cell_type": "code",
   "execution_count": 3,
   "metadata": {},
   "outputs": [
    {
     "data": {
      "image/png": "[encoded data removed]",
      "text/plain": [
       "<Figure size 432x288 with 1 Axes>"
      ]
     },
     "metadata": {
      "needs_background": "light"
     },
     "output_type": "display_data"
    }
   ],
   "source": [
    "plt.scatter(kitten['sleep_proportion'],kitten['grumpy_proportion'],color='b', marker='o',label='kitten')\n",
    "plt.scatter(adult['sleep_proportion'],adult['grumpy_proportion'],color='y', marker='*',label='adult')\n",
    "plt.xlabel('sleeping prop of day')\n",
    "plt.ylabel('grumpy prop of day')\n",
    "plt.legend()\n",
    "plt.axis([0,1,0,1])\n",
    "plt.grid()"
   ]
  },
  {
   "cell_type": "code",
   "execution_count": 4,
   "metadata": {},
   "outputs": [
    {
     "data": {
      "text/html": [
       "<div>\n",
       "<style scoped>\n",
       "    .dataframe tbody tr th:only-of-type {\n",
       "        vertical-align: middle;\n",
       "    }\n",
       "\n",
       "    .dataframe tbody tr th {\n",
       "        vertical-align: top;\n",
       "    }\n",
       "\n",
       "    .dataframe thead th {\n",
       "        text-align: right;\n",
       "    }\n",
       "</style>\n",
       "<table border=\"1\" class=\"dataframe\">\n",
       "  <thead>\n",
       "    <tr style=\"text-align: right;\">\n",
       "      <th></th>\n",
       "      <th>sleep_proportion</th>\n",
       "      <th>grumpy_proportion</th>\n",
       "      <th>prediction</th>\n",
       "      <th>bprediction</th>\n",
       "    </tr>\n",
       "  </thead>\n",
       "  <tbody>\n",
       "    <tr>\n",
       "      <th>0</th>\n",
       "      <td>0.2</td>\n",
       "      <td>0.1</td>\n",
       "      <td>kitten</td>\n",
       "      <td>True</td>\n",
       "    </tr>\n",
       "    <tr>\n",
       "      <th>1</th>\n",
       "      <td>0.4</td>\n",
       "      <td>0.6</td>\n",
       "      <td>kitten</td>\n",
       "      <td>True</td>\n",
       "    </tr>\n",
       "    <tr>\n",
       "      <th>2</th>\n",
       "      <td>0.5</td>\n",
       "      <td>0.2</td>\n",
       "      <td>kitten</td>\n",
       "      <td>True</td>\n",
       "    </tr>\n",
       "    <tr>\n",
       "      <th>3</th>\n",
       "      <td>0.7</td>\n",
       "      <td>0.9</td>\n",
       "      <td>adult</td>\n",
       "      <td>False</td>\n",
       "    </tr>\n",
       "  </tbody>\n",
       "</table>\n",
       "</div>"
      ],
      "text/plain": [
       "   sleep_proportion  grumpy_proportion prediction  bprediction\n",
       "0               0.2                0.1     kitten         True\n",
       "1               0.4                0.6     kitten         True\n",
       "2               0.5                0.2     kitten         True\n",
       "3               0.7                0.9      adult        False"
      ]
     },
     "execution_count": 4,
     "metadata": {},
     "output_type": "execute_result"
    }
   ],
   "source": [
    "df['bprediction']= df['prediction'].apply(lambda x: x=='kitten')\n",
    "from sklearn.linear_model import Perceptron\n",
    "\n",
    "classifier= Perceptron(max_iter=1000)\n",
    "model= classifier.fit(df[['sleep_proportion','grumpy_proportion']], df['bprediction'])\n",
    "df"
   ]
  },
  {
   "cell_type": "code",
   "execution_count": 5,
   "metadata": {},
   "outputs": [
    {
     "name": "stdout",
     "output_type": "stream",
     "text": [
      "[ True]\n",
      "[False]\n",
      "[ True  True]\n"
     ]
    }
   ],
   "source": []
  },
  {
   "cell_type": "code",
   "execution_count": 6,
   "metadata": {},
   "outputs": [],
   "source": [
    "import numpy as np\n",
    "xmin,xmax=0,1\n",
    "ymin,ymax=0,1\n",
    "xx,yy=np.meshgrid(np.arange(xmin,xmax,0.001),np.arange(ymin,ymax,0.001))\n",
    "# print(xx)   \n",
    "# print(yy)\n",
    "xxlin=xx.ravel()\n",
    "# print(xxlin)\n",
    "yylin=yy.ravel()\n",
    "# print(yylin)\n",
    "predinput=np.c_[xxlin,yylin]\n",
    "# print(predinput)\n",
    "z=model.predict(predinput)\n",
    "# print(z)\n",
    "z=z.reshape(xx.shape)\n",
    "# print(z)"
   ]
  },
  {
   "cell_type": "code",
   "execution_count": 11,
   "metadata": {},
   "outputs": [
    {
     "data": {
      "image/png": "[encoded data removed]",
      "text/plain": [
       "<Figure size 720x720 with 1 Axes>"
      ]
     },
     "metadata": {
      "needs_background": "light"
     },
     "output_type": "display_data"
    }
   ],
   "source": [
    "plt.figure(figsize=(10,10))\n",
    "plt.contourf(xx,yy,z,cmap=plt.cm.Pastel1)\n",
    "\n",
    "plt.scatter(kitten['sleep_proportion'],kitten['grumpy_proportion'],color='r', marker='o',label='kitten')\n",
    "plt.scatter(adult['sleep_proportion'],adult['grumpy_proportion'],color='g', marker='^',label='adult')\n",
    "plt.xlabel('sleeping prop of day')\n",
    "plt.ylabel('grumpy prop of day')\n",
    "plt.legend()\n",
    "plt.axis([0,1,0,1])\n",
    "plt.grid()"
   ]
  },
  {
   "cell_type": "code",
   "execution_count": 8,
   "metadata": {},
   "outputs": [
    {
     "name": "stdout",
     "output_type": "stream",
     "text": [
      "[[-0.3 -0.9]]\n"
     ]
    }
   ],
   "source": [
    "print(model.coef_)"
   ]
  },
  {
   "cell_type": "code",
   "execution_count": 9,
   "metadata": {},
   "outputs": [
    {
     "name": "stdout",
     "output_type": "stream",
     "text": [
      "[1.]\n"
     ]
    }
   ],
   "source": [
    "print(model.intercept_)"
   ]
  },
  {
   "cell_type": "code",
   "execution_count": 10,
   "metadata": {},
   "outputs": [
    {
     "name": "stdout",
     "output_type": "stream",
     "text": [
      "1000\n"
     ]
    }
   ],
   "source": [
    "print(model.n_iter_)"
   ]
  },
  {
   "cell_type": "markdown",
   "metadata": {},
   "source": [
    "## Support vector machine"
   ]
  },
  {
   "cell_type": "markdown",
   "metadata": {},
   "source": [
    "Eliminates the drawback of bias generated by perceptron by increasing the width of separation."
   ]
  },
  {
   "cell_type": "code",
   "execution_count": 12,
   "metadata": {},
   "outputs": [
    {
     "data": {
      "text/html": [
       "<div>\n",
       "<style scoped>\n",
       "    .dataframe tbody tr th:only-of-type {\n",
       "        vertical-align: middle;\n",
       "    }\n",
       "\n",
       "    .dataframe tbody tr th {\n",
       "        vertical-align: top;\n",
       "    }\n",
       "\n",
       "    .dataframe thead th {\n",
       "        text-align: right;\n",
       "    }\n",
       "</style>\n",
       "<table border=\"1\" class=\"dataframe\">\n",
       "  <thead>\n",
       "    <tr style=\"text-align: right;\">\n",
       "      <th></th>\n",
       "      <th>sleep_proportion</th>\n",
       "      <th>grumpy_proportion</th>\n",
       "      <th>prediction</th>\n",
       "      <th>bprediction</th>\n",
       "    </tr>\n",
       "  </thead>\n",
       "  <tbody>\n",
       "    <tr>\n",
       "      <th>0</th>\n",
       "      <td>0.2</td>\n",
       "      <td>0.1</td>\n",
       "      <td>kitten</td>\n",
       "      <td>True</td>\n",
       "    </tr>\n",
       "    <tr>\n",
       "      <th>1</th>\n",
       "      <td>0.4</td>\n",
       "      <td>0.6</td>\n",
       "      <td>kitten</td>\n",
       "      <td>True</td>\n",
       "    </tr>\n",
       "    <tr>\n",
       "      <th>2</th>\n",
       "      <td>0.5</td>\n",
       "      <td>0.2</td>\n",
       "      <td>kitten</td>\n",
       "      <td>True</td>\n",
       "    </tr>\n",
       "    <tr>\n",
       "      <th>3</th>\n",
       "      <td>0.7</td>\n",
       "      <td>0.9</td>\n",
       "      <td>adult</td>\n",
       "      <td>False</td>\n",
       "    </tr>\n",
       "  </tbody>\n",
       "</table>\n",
       "</div>"
      ],
      "text/plain": [
       "   sleep_proportion  grumpy_proportion prediction  bprediction\n",
       "0               0.2                0.1     kitten         True\n",
       "1               0.4                0.6     kitten         True\n",
       "2               0.5                0.2     kitten         True\n",
       "3               0.7                0.9      adult        False"
      ]
     },
     "execution_count": 12,
     "metadata": {},
     "output_type": "execute_result"
    }
   ],
   "source": [
    "from sklearn.svm import SVC\n",
    "\n",
    "SVCclassifier= SVC(kernel='linear', C= 10, max_iter=5)\n",
    "SVCmodel= SVCclassifier.fit(df[['sleep_proportion','grumpy_proportion']], df['bprediction'])\n",
    "df"
   ]
  },
  {
   "cell_type": "code",
   "execution_count": 14,
   "metadata": {},
   "outputs": [
    {
     "name": "stdout",
     "output_type": "stream",
     "text": [
      "[ True]\n",
      "[False]\n",
      "[ True  True]\n"
     ]
    }
   ],
   "source": [
    "print(SVCmodel.predict([[0.2,0.1]]))\n",
    "print(SVCmodel.predict([[0.7,0.9]]))\n",
    "print(SVCmodel.predict([[0.5,0.5],[0.8,0.3]]))"
   ]
  },
  {
   "cell_type": "code",
   "execution_count": 15,
   "metadata": {},
   "outputs": [
    {
     "data": {
      "image/png": "[encoded data removed]",
      "text/plain": [
       "<Figure size 720x720 with 1 Axes>"
      ]
     },
     "metadata": {
      "needs_background": "light"
     },
     "output_type": "display_data"
    }
   ],
   "source": [
    "z=SVCmodel.predict(predinput)\n",
    "z=z.reshape(xx.shape)\n",
    "plt.figure(figsize=(10,10))\n",
    "plt.contourf(xx,yy,z,cmap=plt.cm.Pastel1)\n",
    "plt.scatter(kitten['sleep_proportion'],kitten['grumpy_proportion'],color='r', marker='o',label='kitten')\n",
    "plt.scatter(adult['sleep_proportion'],adult['grumpy_proportion'],color='g', marker='^',label='adult')\n",
    "plt.xlabel('sleeping prop of day')\n",
    "plt.ylabel('grumpy prop of day')\n",
    "plt.legend()\n",
    "plt.axis([0,1,0,1])\n",
    "plt.grid()"
   ]
  },
  {
   "cell_type": "code",
   "execution_count": null,
   "metadata": {},
   "outputs": [],
   "source": []
  }
 ],
 "metadata": {
  "kernelspec": {
   "display_name": "Python 3",
   "language": "python",
   "name": "python3"
  },
  "language_info": {
   "codemirror_mode": {
    "name": "ipython",
    "version": 3
   },
   "file_extension": ".py",
   "mimetype": "text/x-python",
   "name": "python",
   "nbconvert_exporter": "python",
   "pygments_lexer": "ipython3",
   "version": "3.7.3"
  }
 },
 "nbformat": 4,
 "nbformat_minor": 2
}
