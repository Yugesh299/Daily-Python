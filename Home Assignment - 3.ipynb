{
 "cells": [
  {
   "cell_type": "markdown",
   "metadata": {},
   "source": [
    "# HA-11 List to Dictionary mapping"
   ]
  },
  {
   "cell_type": "code",
   "execution_count": 1,
   "metadata": {},
   "outputs": [
    {
     "name": "stdout",
     "output_type": "stream",
     "text": [
      "How many students: 2\n",
      "Enter name: yug\n",
      "Enter roll number: 12\n",
      "Enter name: uew\n",
      "Enter roll number: 67\n",
      "{'yug': '12', 'uew': '67'}\n"
     ]
    }
   ],
   "source": [
    "list1=[]\n",
    "list2=[]\n",
    "n=int(input(\"How many students: \"))\n",
    "for i in range(n):\n",
    "    x=input(\"Enter name: \")\n",
    "    list1.append(x)\n",
    "    y=input(\"Enter roll number: \")\n",
    "    list2.append(y)\n",
    "# print(list1)\n",
    "# print(list2)\n",
    "dict1={}\n",
    "for i in range(n):\n",
    "    dict1[list1[i]]=list2[i]\n",
    "print(dict1)"
   ]
  },
  {
   "cell_type": "markdown",
   "metadata": {},
   "source": [
    "# HA-12 Power of 2"
   ]
  },
  {
   "cell_type": "code",
   "execution_count": 2,
   "metadata": {},
   "outputs": [
    {
     "name": "stdout",
     "output_type": "stream",
     "text": [
      "[1, 2, 4, 8, 16, 32, 64, 128, 256, 512]\n"
     ]
    }
   ],
   "source": [
    "print([2**i for i in range(10)])"
   ]
  },
  {
   "cell_type": "markdown",
   "metadata": {},
   "source": [
    "# HA-13 Addition of elements"
   ]
  },
  {
   "cell_type": "code",
   "execution_count": 3,
   "metadata": {},
   "outputs": [
    {
     "name": "stdout",
     "output_type": "stream",
     "text": [
      "[7, 9, 11, 13, 15]\n"
     ]
    }
   ],
   "source": [
    "a=list1=[1,2,3,4,5]\n",
    "b=list2=[6,7,8,9,10]\n",
    "p=list(map(lambda a,b:a+b, list1,list2))\n",
    "print(p)"
   ]
  },
  {
   "cell_type": "markdown",
   "metadata": {},
   "source": [
    "# HA-14- Second paragraph reading"
   ]
  },
  {
   "cell_type": "code",
   "execution_count": 15,
   "metadata": {},
   "outputs": [
    {
     "name": "stdout",
     "output_type": "stream",
     "text": [
      "['A paragraph (from the Ancient Greearagraphos, \"to write beside\" or \"written beside\") is a self-contained unit of a discourse in writing dealing with a particular point or idea. A paragraph consists of one or more sentences.\\n', '\\n', 'The oldest classical Greek and Latin writing had little or no space between words and could be written in boustrophedon (alternating directions). Over time, text direction (left to right) became standardized, and word dividers and terminal punctuation became common. The first way to divide sentences into groups was the original paragraphos, similar to an underscore at the beginning of the new group.[2] The Greek paragraphos evolved into the pilcrow  which in English manuscripts in the Middle Ages can be seen inserted inline between sentences. The hedera leaf has also been used\\n', '\\n', ' in the same way.In ancient manuscripts, another means to divide sentences into paragraphs was a line break (newline) followed by an initial at the beginning of the next paragraph. An initial is an oversized capital letter, sometimes outdented beyond the margin of the text. \\n', ' \\n', ' This style can be seen, for example, in the original Old English manuscript of Beowulf. Outdenting is still used in English typography, though not commonly.[3] Modern English typography usually indicates a new paragraph by indenting the first line. This style can be seen in the (handwritten) United States Constitution from 1787. For additional ornamentation, a hedera leaf or other symbol can be added to the inter-paragraph whitespace, or put in the indentation space.\\n']\n",
      "7\n",
      "7\n",
      "\n",
      "\n",
      "7\n",
      "The oldest classical Greek and Latin writing had little or no space between words and could be written in boustrophedon (alternating directions). Over time, text direction (left to right) became standardized, and word dividers and terminal punctuation became common. The first way to divide sentences into groups was the original paragraphos, similar to an underscore at the beginning of the new group.[2] The Greek paragraphos evolved into the pilcrow  which in English manuscripts in the Middle Ages can be seen inserted inline between sentences. The hedera leaf has also been used\n",
      "\n",
      "584\n"
     ]
    }
   ],
   "source": [
    "fo = open(\"paragraph.txt\",\"r\")\n",
    "x=fo.readlines()\n",
    "print(x)\n",
    "l=len(x)\n",
    "print(l)\n",
    "fo.close()\n",
    "\n",
    "fo = open(\"paragraph.txt\",\"r\")\n",
    "count=0\n",
    "for i in range(l):\n",
    "    stri = fo.readline()\n",
    "    p=list(stri)\n",
    "    q=len(p)\n",
    "    for i in range(q):\n",
    "        if p[i]=='\\n':\n",
    "            count+=1\n",
    "print(count)\n",
    "fo.close()\n",
    "\n",
    "fo = open(\"paragraph.txt\",\"r\")\n",
    "if count>4:\n",
    "    r=fo.readline()\n",
    "    r1=fo.readline()\n",
    "    print(r1)\n",
    "print(count)\n",
    "fo.close()\n",
    "\n",
    "fo = open(\"paragraph.txt\",\"r\")\n",
    "z=fo.readline()\n",
    "y=fo.readline()\n",
    "x=fo.readline()\n",
    "print(x)\n",
    "l=len(x)\n",
    "print(l)\n",
    "fo.close()"
   ]
  },
  {
   "cell_type": "markdown",
   "metadata": {},
   "source": [
    "# HA-15 Simple data extraction"
   ]
  },
  {
   "cell_type": "code",
   "execution_count": 6,
   "metadata": {},
   "outputs": [
    {
     "name": "stdout",
     "output_type": "stream",
     "text": [
      "# lines in a file:  140\n",
      "import name 1: getopt\n",
      "import name 2: sys\n",
      "import name 3: urllib\n",
      "import name 4: time\n",
      "function name 1: main():\n",
      "function name 2: Greg2JD(year, month, day):\n",
      "Lines in function: 1 20\n",
      "function name 3: QuarterDates(quarter):\n",
      "Lines in function: 2 21\n",
      "function name 4: GetMetaData(invid,quarter):\n",
      "Lines in function: 3 8\n",
      "function name 5: usage():\n",
      "Lines in function: 4 52\n",
      "Lines in function: 5 17\n",
      "\n",
      "#imports:  4\n",
      "#functions:  5\n",
      "#for loops:  2\n",
      "#if loops:  11\n",
      "#while loops:  0\n"
     ]
    }
   ],
   "source": [
    "fo = open(\"pythontestfile.txt\",\"r\")\n",
    "str1=fo.readlines()\n",
    "l=len(str1)\n",
    "print(\"# lines in a file: \",l)\n",
    "#print(str1)\n",
    "fo.close()\n",
    "\n",
    "fo = open(\"pythontestfile.txt\",\"r\")\n",
    "count=0  #number of imports\n",
    "count1=0 #number of functions\n",
    "#count2=0 #def lines\n",
    "count3=0 #for loops\n",
    "count4=0 #if loops\n",
    "count5=0 #while loops\n",
    "initial=0\n",
    "final=0\n",
    "for i in range(l):\n",
    "    stri = fo.readline()\n",
    "    p=list(stri)\n",
    "    #print(p)\n",
    "    q=len(p)\n",
    "    #print(q)\n",
    "    for j in range(q):\n",
    "        if p[j]=='i':\n",
    "            if p[j+1]=='m':\n",
    "                if p[j+2]=='p':\n",
    "                    if p[j+3]=='o':\n",
    "                        if p[j+4]=='r':\n",
    "                            if p[j+5]=='t':\n",
    "                                count+=1\n",
    "                                imports=p[j+7:]\n",
    "                                print(\"import name\",count,end=\": \")\n",
    "                                for x in imports:\n",
    "                                    print(x,end=\"\")\n",
    "    for j in range(q):\n",
    "        if p[j]=='d':\n",
    "            if p[j+1]=='e':\n",
    "                if p[j+2]=='f':\n",
    "                    count1+=1\n",
    "                    functions=p[j+4:]\n",
    "                    print(\"function name\",count1,end=\": \")\n",
    "                    for y in functions:\n",
    "                        print(y,end=\"\")\n",
    "                    final=initial\n",
    "                    initial=i\n",
    "                    if final!=0:\n",
    "                        ans=(initial-final)-3\n",
    "                        print(\"Lines in function:\",(count1-1),ans)\n",
    "    if i==l-2:\n",
    "        ans1=(l-initial)-3\n",
    "        print(\"Lines in function:\",(count1),ans1)\n",
    "\n",
    "    for j in range(q):\n",
    "        if p[j]=='f':\n",
    "            if p[j+1]=='o':\n",
    "                if p[j+2]=='r':\n",
    "                    for k in range(q):\n",
    "                        if p[k]==':':\n",
    "                            count3+=1\n",
    "    for j in range(q):\n",
    "        if p[j]=='i':\n",
    "            if p[j+1]=='f':\n",
    "                count4+=1\n",
    "    for j in range(q):\n",
    "        if p[j]=='w':\n",
    "            if p[j+1]=='h':\n",
    "                if p[j+2]=='i':\n",
    "                    if p[j+3]=='l':\n",
    "                        if p[j+4]=='e':\n",
    "                            for k in range(q):\n",
    "                                if p[k]==':':\n",
    "                                    count5+=1\n",
    "\n",
    "print(\"\\n#imports: \",count)\n",
    "print(\"#functions: \",count1)\n",
    "print(\"#for loops: \",count3)\n",
    "print(\"#if loops: \",count4)\n",
    "print(\"#while loops: \",count5)\n",
    "fo.close()"
   ]
  },
  {
   "cell_type": "code",
   "execution_count": null,
   "metadata": {},
   "outputs": [],
   "source": []
  }
 ],
 "metadata": {
  "kernelspec": {
   "display_name": "Python 3",
   "language": "python",
   "name": "python3"
  },
  "language_info": {
   "codemirror_mode": {
    "name": "ipython",
    "version": 3
   },
   "file_extension": ".py",
   "mimetype": "text/x-python",
   "name": "python",
   "nbconvert_exporter": "python",
   "pygments_lexer": "ipython3",
   "version": "3.7.3"
  }
 },
 "nbformat": 4,
 "nbformat_minor": 2
}
